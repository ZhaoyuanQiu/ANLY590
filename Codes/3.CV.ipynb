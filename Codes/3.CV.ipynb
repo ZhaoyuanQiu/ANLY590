{
 "cells": [
  {
   "cell_type": "markdown",
   "id": "pSbmGaVoiqRY",
   "metadata": {
    "id": "pSbmGaVoiqRY"
   },
   "source": [
    "## 1. GPU Checker"
   ]
  },
  {
   "cell_type": "code",
   "execution_count": 1,
   "id": "P4uSv3QSh9T7",
   "metadata": {
    "colab": {
     "base_uri": "https://localhost:8080/"
    },
    "executionInfo": {
     "elapsed": 11,
     "status": "ok",
     "timestamp": 1669170355323,
     "user": {
      "displayName": "Neil Chen",
      "userId": "13676878019206126902"
     },
     "user_tz": 300
    },
    "id": "P4uSv3QSh9T7",
    "outputId": "2471e252-8db4-4ef8-8af2-5072b66fdacd"
   },
   "outputs": [
    {
     "name": "stdout",
     "output_type": "stream",
     "text": [
      "Wed Nov 23 02:25:54 2022       \n",
      "+-----------------------------------------------------------------------------+\n",
      "| NVIDIA-SMI 460.32.03    Driver Version: 460.32.03    CUDA Version: 11.2     |\n",
      "|-------------------------------+----------------------+----------------------+\n",
      "| GPU  Name        Persistence-M| Bus-Id        Disp.A | Volatile Uncorr. ECC |\n",
      "| Fan  Temp  Perf  Pwr:Usage/Cap|         Memory-Usage | GPU-Util  Compute M. |\n",
      "|                               |                      |               MIG M. |\n",
      "|===============================+======================+======================|\n",
      "|   0  Tesla T4            Off  | 00000000:00:04.0 Off |                    0 |\n",
      "| N/A   40C    P8     9W /  70W |      0MiB / 15109MiB |      0%      Default |\n",
      "|                               |                      |                  N/A |\n",
      "+-------------------------------+----------------------+----------------------+\n",
      "                                                                               \n",
      "+-----------------------------------------------------------------------------+\n",
      "| Processes:                                                                  |\n",
      "|  GPU   GI   CI        PID   Type   Process name                  GPU Memory |\n",
      "|        ID   ID                                                   Usage      |\n",
      "|=============================================================================|\n",
      "|  No running processes found                                                 |\n",
      "+-----------------------------------------------------------------------------+\n"
     ]
    }
   ],
   "source": [
    "gpu_info = !nvidia-smi\n",
    "gpu_info = '\\n'.join(gpu_info)\n",
    "if gpu_info.find('failed') >= 0:\n",
    "    print('Not connected to a GPU')\n",
    "else:\n",
    "    print(gpu_info)"
   ]
  },
  {
   "cell_type": "code",
   "execution_count": 2,
   "id": "hCW-xgOWiAKv",
   "metadata": {
    "colab": {
     "base_uri": "https://localhost:8080/"
    },
    "executionInfo": {
     "elapsed": 524,
     "status": "ok",
     "timestamp": 1669170364088,
     "user": {
      "displayName": "Neil Chen",
      "userId": "13676878019206126902"
     },
     "user_tz": 300
    },
    "id": "hCW-xgOWiAKv",
    "outputId": "fe472444-dd47-49b0-f5d6-bda06f010235"
   },
   "outputs": [
    {
     "name": "stdout",
     "output_type": "stream",
     "text": [
      "Your runtime has 27.3 gigabytes of available RAM\n",
      "\n",
      "You are using a high-RAM runtime!\n"
     ]
    }
   ],
   "source": [
    "from psutil import virtual_memory\n",
    "ram_gb = virtual_memory().total / 1e9\n",
    "print('Your runtime has {:.1f} gigabytes of available RAM\\n'.format(ram_gb))\n",
    "\n",
    "if ram_gb < 20:\n",
    "    print('Not using a high-RAM runtime')\n",
    "else:\n",
    "    print('You are using a high-RAM runtime!')"
   ]
  },
  {
   "cell_type": "code",
   "execution_count": 3,
   "id": "GDpUTXkqjcz_",
   "metadata": {
    "colab": {
     "base_uri": "https://localhost:8080/"
    },
    "executionInfo": {
     "elapsed": 2115,
     "status": "ok",
     "timestamp": 1669170374201,
     "user": {
      "displayName": "Neil Chen",
      "userId": "13676878019206126902"
     },
     "user_tz": 300
    },
    "id": "GDpUTXkqjcz_",
    "outputId": "64b45bc5-46a1-452a-e443-fc9bfc7d8753"
   },
   "outputs": [
    {
     "name": "stdout",
     "output_type": "stream",
     "text": [
      "There are 1 GPU(s) available.\n",
      "We will use the GPU\n"
     ]
    }
   ],
   "source": [
    "import torch\n",
    "if torch.cuda.is_available():       \n",
    "    device = torch.device(\"cuda\")\n",
    "    print('There are %d GPU(s) available.' % torch.cuda.device_count())\n",
    "    print('We will use the GPU')\n",
    "else:\n",
    "    print('No GPU available, using the CPU instead.')\n",
    "    device = torch.device(\"cpu\")"
   ]
  },
  {
   "cell_type": "markdown",
   "id": "UAAndoIuiwwZ",
   "metadata": {
    "id": "UAAndoIuiwwZ"
   },
   "source": [
    "## 2. Image Files Preparation"
   ]
  },
  {
   "cell_type": "code",
   "execution_count": 1,
   "id": "4b7bb71f",
   "metadata": {
    "executionInfo": {
     "elapsed": 3596,
     "status": "ok",
     "timestamp": 1669170384296,
     "user": {
      "displayName": "Neil Chen",
      "userId": "13676878019206126902"
     },
     "user_tz": 300
    },
    "id": "4b7bb71f"
   },
   "outputs": [
    {
     "name": "stderr",
     "output_type": "stream",
     "text": [
      "\n",
      "Bad key text.latex.preview in file C:\\Users\\Lovecraft.Qiu\\AppData\\Roaming\\Python\\Python37\\site-packages\\matplotlib\\mpl-data\\stylelib\\_classic_test.mplstyle, line 123 ('text.latex.preview : False')\n",
      "You probably need to get an updated matplotlibrc file from\n",
      "https://github.com/matplotlib/matplotlib/blob/v3.5.3/matplotlibrc.template\n",
      "or from the matplotlib source distribution\n",
      "\n",
      "Bad key mathtext.fallback_to_cm in file C:\\Users\\Lovecraft.Qiu\\AppData\\Roaming\\Python\\Python37\\site-packages\\matplotlib\\mpl-data\\stylelib\\_classic_test.mplstyle, line 155 ('mathtext.fallback_to_cm : True  # When True, use symbols from the Computer Modern')\n",
      "You probably need to get an updated matplotlibrc file from\n",
      "https://github.com/matplotlib/matplotlib/blob/v3.5.3/matplotlibrc.template\n",
      "or from the matplotlib source distribution\n",
      "\n",
      "Bad key savefig.jpeg_quality in file C:\\Users\\Lovecraft.Qiu\\AppData\\Roaming\\Python\\Python37\\site-packages\\matplotlib\\mpl-data\\stylelib\\_classic_test.mplstyle, line 418 ('savefig.jpeg_quality: 95       # when a jpeg is saved, the default quality parameter.')\n",
      "You probably need to get an updated matplotlibrc file from\n",
      "https://github.com/matplotlib/matplotlib/blob/v3.5.3/matplotlibrc.template\n",
      "or from the matplotlib source distribution\n",
      "\n",
      "Bad key keymap.all_axes in file C:\\Users\\Lovecraft.Qiu\\AppData\\Roaming\\Python\\Python37\\site-packages\\matplotlib\\mpl-data\\stylelib\\_classic_test.mplstyle, line 466 ('keymap.all_axes : a                 # enable all axes')\n",
      "You probably need to get an updated matplotlibrc file from\n",
      "https://github.com/matplotlib/matplotlib/blob/v3.5.3/matplotlibrc.template\n",
      "or from the matplotlib source distribution\n",
      "\n",
      "Bad key animation.avconv_path in file C:\\Users\\Lovecraft.Qiu\\AppData\\Roaming\\Python\\Python37\\site-packages\\matplotlib\\mpl-data\\stylelib\\_classic_test.mplstyle, line 477 ('animation.avconv_path: avconv     # Path to avconv binary. Without full path')\n",
      "You probably need to get an updated matplotlibrc file from\n",
      "https://github.com/matplotlib/matplotlib/blob/v3.5.3/matplotlibrc.template\n",
      "or from the matplotlib source distribution\n",
      "\n",
      "Bad key animation.avconv_args in file C:\\Users\\Lovecraft.Qiu\\AppData\\Roaming\\Python\\Python37\\site-packages\\matplotlib\\mpl-data\\stylelib\\_classic_test.mplstyle, line 479 ('animation.avconv_args:            # Additional arguments to pass to avconv')\n",
      "You probably need to get an updated matplotlibrc file from\n",
      "https://github.com/matplotlib/matplotlib/blob/v3.5.3/matplotlibrc.template\n",
      "or from the matplotlib source distribution\n"
     ]
    }
   ],
   "source": [
    "from tensorflow.keras.preprocessing import image\n",
    "from tensorflow.keras.preprocessing.image import ImageDataGenerator\n",
    "\n",
    "import pandas as pd\n",
    "pd.set_option('display.max_rows',None)\n",
    "pd.set_option('display.max_columns',None)\n",
    "pd.set_option('display.max_colwidth', None)\t\n",
    "import matplotlib.pyplot as plt\n",
    "import os\n",
    "os.chdir(r'D:\\ME\\GeorgeTown\\FALL2022\\ANLY-590\\ANLY590\\Data')\n",
    "import numpy as np\n",
    "import scipy.sparse\n",
    "from tqdm import tqdm\n",
    "import functools\n",
    "\n",
    "from sklearn.utils import class_weight\n",
    "import matplotlib.pyplot as plt"
   ]
  },
  {
   "cell_type": "code",
   "execution_count": 10,
   "id": "0cce56ff",
   "metadata": {
    "colab": {
     "base_uri": "https://localhost:8080/",
     "height": 206
    },
    "executionInfo": {
     "elapsed": 234,
     "status": "ok",
     "timestamp": 1669171011918,
     "user": {
      "displayName": "Neil Chen",
      "userId": "13676878019206126902"
     },
     "user_tz": 300
    },
    "id": "0cce56ff",
    "outputId": "7d7a2578-ad81-4656-f4d8-60cd029bc436"
   },
   "outputs": [
    {
     "data": {
      "text/html": [
       "\n",
       "  <div id=\"df-07bedb47-56a5-4fa9-bbff-cb94d316c92f\">\n",
       "    <div class=\"colab-df-container\">\n",
       "      <div>\n",
       "<style scoped>\n",
       "    .dataframe tbody tr th:only-of-type {\n",
       "        vertical-align: middle;\n",
       "    }\n",
       "\n",
       "    .dataframe tbody tr th {\n",
       "        vertical-align: top;\n",
       "    }\n",
       "\n",
       "    .dataframe thead th {\n",
       "        text-align: right;\n",
       "    }\n",
       "</style>\n",
       "<table border=\"1\" class=\"dataframe\">\n",
       "  <thead>\n",
       "    <tr style=\"text-align: right;\">\n",
       "      <th></th>\n",
       "      <th>posting_id</th>\n",
       "      <th>image</th>\n",
       "      <th>image_phash</th>\n",
       "      <th>title</th>\n",
       "      <th>label_group</th>\n",
       "    </tr>\n",
       "  </thead>\n",
       "  <tbody>\n",
       "    <tr>\n",
       "      <th>0</th>\n",
       "      <td>train_129225211</td>\n",
       "      <td>0000a68812bc7e98c42888dfb1c07da0.jpg</td>\n",
       "      <td>94974f937d4c2433</td>\n",
       "      <td>Paper Bag Victoria Secret</td>\n",
       "      <td>249114794</td>\n",
       "    </tr>\n",
       "    <tr>\n",
       "      <th>1</th>\n",
       "      <td>train_3386243561</td>\n",
       "      <td>00039780dfc94d01db8676fe789ecd05.jpg</td>\n",
       "      <td>af3f9460c2838f0f</td>\n",
       "      <td>Double Tape 3M VHB 12 mm x 4,5 m ORIGINAL / DO...</td>\n",
       "      <td>2937985045</td>\n",
       "    </tr>\n",
       "    <tr>\n",
       "      <th>2</th>\n",
       "      <td>train_2288590299</td>\n",
       "      <td>000a190fdd715a2a36faed16e2c65df7.jpg</td>\n",
       "      <td>b94cb00ed3e50f78</td>\n",
       "      <td>Maling TTS Canned Pork Luncheon Meat 397 gr</td>\n",
       "      <td>2395904891</td>\n",
       "    </tr>\n",
       "    <tr>\n",
       "      <th>3</th>\n",
       "      <td>train_2406599165</td>\n",
       "      <td>00117e4fc239b1b641ff08340b429633.jpg</td>\n",
       "      <td>8514fc58eafea283</td>\n",
       "      <td>Daster Batik Lengan pendek - Motif Acak / Camp...</td>\n",
       "      <td>4093212188</td>\n",
       "    </tr>\n",
       "    <tr>\n",
       "      <th>4</th>\n",
       "      <td>train_3369186413</td>\n",
       "      <td>00136d1cf4edede0203f32f05f660588.jpg</td>\n",
       "      <td>a6f319f924ad708c</td>\n",
       "      <td>Nescafe \\xc3\\x89clair Latte 220ml</td>\n",
       "      <td>3648931069</td>\n",
       "    </tr>\n",
       "  </tbody>\n",
       "</table>\n",
       "</div>\n",
       "      <button class=\"colab-df-convert\" onclick=\"convertToInteractive('df-07bedb47-56a5-4fa9-bbff-cb94d316c92f')\"\n",
       "              title=\"Convert this dataframe to an interactive table.\"\n",
       "              style=\"display:none;\">\n",
       "        \n",
       "  <svg xmlns=\"http://www.w3.org/2000/svg\" height=\"24px\"viewBox=\"0 0 24 24\"\n",
       "       width=\"24px\">\n",
       "    <path d=\"M0 0h24v24H0V0z\" fill=\"none\"/>\n",
       "    <path d=\"M18.56 5.44l.94 2.06.94-2.06 2.06-.94-2.06-.94-.94-2.06-.94 2.06-2.06.94zm-11 1L8.5 8.5l.94-2.06 2.06-.94-2.06-.94L8.5 2.5l-.94 2.06-2.06.94zm10 10l.94 2.06.94-2.06 2.06-.94-2.06-.94-.94-2.06-.94 2.06-2.06.94z\"/><path d=\"M17.41 7.96l-1.37-1.37c-.4-.4-.92-.59-1.43-.59-.52 0-1.04.2-1.43.59L10.3 9.45l-7.72 7.72c-.78.78-.78 2.05 0 2.83L4 21.41c.39.39.9.59 1.41.59.51 0 1.02-.2 1.41-.59l7.78-7.78 2.81-2.81c.8-.78.8-2.07 0-2.86zM5.41 20L4 18.59l7.72-7.72 1.47 1.35L5.41 20z\"/>\n",
       "  </svg>\n",
       "      </button>\n",
       "      \n",
       "  <style>\n",
       "    .colab-df-container {\n",
       "      display:flex;\n",
       "      flex-wrap:wrap;\n",
       "      gap: 12px;\n",
       "    }\n",
       "\n",
       "    .colab-df-convert {\n",
       "      background-color: #E8F0FE;\n",
       "      border: none;\n",
       "      border-radius: 50%;\n",
       "      cursor: pointer;\n",
       "      display: none;\n",
       "      fill: #1967D2;\n",
       "      height: 32px;\n",
       "      padding: 0 0 0 0;\n",
       "      width: 32px;\n",
       "    }\n",
       "\n",
       "    .colab-df-convert:hover {\n",
       "      background-color: #E2EBFA;\n",
       "      box-shadow: 0px 1px 2px rgba(60, 64, 67, 0.3), 0px 1px 3px 1px rgba(60, 64, 67, 0.15);\n",
       "      fill: #174EA6;\n",
       "    }\n",
       "\n",
       "    [theme=dark] .colab-df-convert {\n",
       "      background-color: #3B4455;\n",
       "      fill: #D2E3FC;\n",
       "    }\n",
       "\n",
       "    [theme=dark] .colab-df-convert:hover {\n",
       "      background-color: #434B5C;\n",
       "      box-shadow: 0px 1px 3px 1px rgba(0, 0, 0, 0.15);\n",
       "      filter: drop-shadow(0px 1px 2px rgba(0, 0, 0, 0.3));\n",
       "      fill: #FFFFFF;\n",
       "    }\n",
       "  </style>\n",
       "\n",
       "      <script>\n",
       "        const buttonEl =\n",
       "          document.querySelector('#df-07bedb47-56a5-4fa9-bbff-cb94d316c92f button.colab-df-convert');\n",
       "        buttonEl.style.display =\n",
       "          google.colab.kernel.accessAllowed ? 'block' : 'none';\n",
       "\n",
       "        async function convertToInteractive(key) {\n",
       "          const element = document.querySelector('#df-07bedb47-56a5-4fa9-bbff-cb94d316c92f');\n",
       "          const dataTable =\n",
       "            await google.colab.kernel.invokeFunction('convertToInteractive',\n",
       "                                                     [key], {});\n",
       "          if (!dataTable) return;\n",
       "\n",
       "          const docLinkHtml = 'Like what you see? Visit the ' +\n",
       "            '<a target=\"_blank\" href=https://colab.research.google.com/notebooks/data_table.ipynb>data table notebook</a>'\n",
       "            + ' to learn more about interactive tables.';\n",
       "          element.innerHTML = '';\n",
       "          dataTable['output_type'] = 'display_data';\n",
       "          await google.colab.output.renderOutput(dataTable, element);\n",
       "          const docLink = document.createElement('div');\n",
       "          docLink.innerHTML = docLinkHtml;\n",
       "          element.appendChild(docLink);\n",
       "        }\n",
       "      </script>\n",
       "    </div>\n",
       "  </div>\n",
       "  "
      ],
      "text/plain": [
       "         posting_id                                 image       image_phash  \\\n",
       "0   train_129225211  0000a68812bc7e98c42888dfb1c07da0.jpg  94974f937d4c2433   \n",
       "1  train_3386243561  00039780dfc94d01db8676fe789ecd05.jpg  af3f9460c2838f0f   \n",
       "2  train_2288590299  000a190fdd715a2a36faed16e2c65df7.jpg  b94cb00ed3e50f78   \n",
       "3  train_2406599165  00117e4fc239b1b641ff08340b429633.jpg  8514fc58eafea283   \n",
       "4  train_3369186413  00136d1cf4edede0203f32f05f660588.jpg  a6f319f924ad708c   \n",
       "\n",
       "                                               title  label_group  \n",
       "0                          Paper Bag Victoria Secret    249114794  \n",
       "1  Double Tape 3M VHB 12 mm x 4,5 m ORIGINAL / DO...   2937985045  \n",
       "2        Maling TTS Canned Pork Luncheon Meat 397 gr   2395904891  \n",
       "3  Daster Batik Lengan pendek - Motif Acak / Camp...   4093212188  \n",
       "4                  Nescafe \\xc3\\x89clair Latte 220ml   3648931069  "
      ]
     },
     "execution_count": 10,
     "metadata": {},
     "output_type": "execute_result"
    }
   ],
   "source": [
    "#The samples in test_csv will not be used for training & validation\n",
    "train_csv=pd.read_csv('Data/train.csv')\n",
    "train_csv.head()"
   ]
  },
  {
   "cell_type": "code",
   "execution_count": 11,
   "id": "7b88e8e0",
   "metadata": {
    "colab": {
     "base_uri": "https://localhost:8080/",
     "height": 143
    },
    "executionInfo": {
     "elapsed": 595,
     "status": "ok",
     "timestamp": 1669171024399,
     "user": {
      "displayName": "Neil Chen",
      "userId": "13676878019206126902"
     },
     "user_tz": 300
    },
    "id": "7b88e8e0",
    "outputId": "87cf65dd-8179-416f-c4b9-e28127ec8808"
   },
   "outputs": [
    {
     "data": {
      "text/html": [
       "\n",
       "  <div id=\"df-da6b3155-b40c-4c51-a095-536ac7b65697\">\n",
       "    <div class=\"colab-df-container\">\n",
       "      <div>\n",
       "<style scoped>\n",
       "    .dataframe tbody tr th:only-of-type {\n",
       "        vertical-align: middle;\n",
       "    }\n",
       "\n",
       "    .dataframe tbody tr th {\n",
       "        vertical-align: top;\n",
       "    }\n",
       "\n",
       "    .dataframe thead th {\n",
       "        text-align: right;\n",
       "    }\n",
       "</style>\n",
       "<table border=\"1\" class=\"dataframe\">\n",
       "  <thead>\n",
       "    <tr style=\"text-align: right;\">\n",
       "      <th></th>\n",
       "      <th>posting_id</th>\n",
       "      <th>image</th>\n",
       "      <th>image_phash</th>\n",
       "      <th>title</th>\n",
       "    </tr>\n",
       "  </thead>\n",
       "  <tbody>\n",
       "    <tr>\n",
       "      <th>0</th>\n",
       "      <td>test_2255846744</td>\n",
       "      <td>0006c8e5462ae52167402bac1c2e916e.jpg</td>\n",
       "      <td>ecc292392dc7687a</td>\n",
       "      <td>Edufuntoys - CHARACTER PHONE ada lampu dan mus...</td>\n",
       "    </tr>\n",
       "    <tr>\n",
       "      <th>1</th>\n",
       "      <td>test_3588702337</td>\n",
       "      <td>0007585c4d0f932859339129f709bfdc.jpg</td>\n",
       "      <td>e9968f60d2699e2c</td>\n",
       "      <td>(Beli 1 Free Spatula) Masker Komedo | Blackhea...</td>\n",
       "    </tr>\n",
       "    <tr>\n",
       "      <th>2</th>\n",
       "      <td>test_4015706929</td>\n",
       "      <td>0008377d3662e83ef44e1881af38b879.jpg</td>\n",
       "      <td>ba81c17e3581cabe</td>\n",
       "      <td>READY Lemonilo Mie instant sehat kuah dan goreng</td>\n",
       "    </tr>\n",
       "  </tbody>\n",
       "</table>\n",
       "</div>\n",
       "      <button class=\"colab-df-convert\" onclick=\"convertToInteractive('df-da6b3155-b40c-4c51-a095-536ac7b65697')\"\n",
       "              title=\"Convert this dataframe to an interactive table.\"\n",
       "              style=\"display:none;\">\n",
       "        \n",
       "  <svg xmlns=\"http://www.w3.org/2000/svg\" height=\"24px\"viewBox=\"0 0 24 24\"\n",
       "       width=\"24px\">\n",
       "    <path d=\"M0 0h24v24H0V0z\" fill=\"none\"/>\n",
       "    <path d=\"M18.56 5.44l.94 2.06.94-2.06 2.06-.94-2.06-.94-.94-2.06-.94 2.06-2.06.94zm-11 1L8.5 8.5l.94-2.06 2.06-.94-2.06-.94L8.5 2.5l-.94 2.06-2.06.94zm10 10l.94 2.06.94-2.06 2.06-.94-2.06-.94-.94-2.06-.94 2.06-2.06.94z\"/><path d=\"M17.41 7.96l-1.37-1.37c-.4-.4-.92-.59-1.43-.59-.52 0-1.04.2-1.43.59L10.3 9.45l-7.72 7.72c-.78.78-.78 2.05 0 2.83L4 21.41c.39.39.9.59 1.41.59.51 0 1.02-.2 1.41-.59l7.78-7.78 2.81-2.81c.8-.78.8-2.07 0-2.86zM5.41 20L4 18.59l7.72-7.72 1.47 1.35L5.41 20z\"/>\n",
       "  </svg>\n",
       "      </button>\n",
       "      \n",
       "  <style>\n",
       "    .colab-df-container {\n",
       "      display:flex;\n",
       "      flex-wrap:wrap;\n",
       "      gap: 12px;\n",
       "    }\n",
       "\n",
       "    .colab-df-convert {\n",
       "      background-color: #E8F0FE;\n",
       "      border: none;\n",
       "      border-radius: 50%;\n",
       "      cursor: pointer;\n",
       "      display: none;\n",
       "      fill: #1967D2;\n",
       "      height: 32px;\n",
       "      padding: 0 0 0 0;\n",
       "      width: 32px;\n",
       "    }\n",
       "\n",
       "    .colab-df-convert:hover {\n",
       "      background-color: #E2EBFA;\n",
       "      box-shadow: 0px 1px 2px rgba(60, 64, 67, 0.3), 0px 1px 3px 1px rgba(60, 64, 67, 0.15);\n",
       "      fill: #174EA6;\n",
       "    }\n",
       "\n",
       "    [theme=dark] .colab-df-convert {\n",
       "      background-color: #3B4455;\n",
       "      fill: #D2E3FC;\n",
       "    }\n",
       "\n",
       "    [theme=dark] .colab-df-convert:hover {\n",
       "      background-color: #434B5C;\n",
       "      box-shadow: 0px 1px 3px 1px rgba(0, 0, 0, 0.15);\n",
       "      filter: drop-shadow(0px 1px 2px rgba(0, 0, 0, 0.3));\n",
       "      fill: #FFFFFF;\n",
       "    }\n",
       "  </style>\n",
       "\n",
       "      <script>\n",
       "        const buttonEl =\n",
       "          document.querySelector('#df-da6b3155-b40c-4c51-a095-536ac7b65697 button.colab-df-convert');\n",
       "        buttonEl.style.display =\n",
       "          google.colab.kernel.accessAllowed ? 'block' : 'none';\n",
       "\n",
       "        async function convertToInteractive(key) {\n",
       "          const element = document.querySelector('#df-da6b3155-b40c-4c51-a095-536ac7b65697');\n",
       "          const dataTable =\n",
       "            await google.colab.kernel.invokeFunction('convertToInteractive',\n",
       "                                                     [key], {});\n",
       "          if (!dataTable) return;\n",
       "\n",
       "          const docLinkHtml = 'Like what you see? Visit the ' +\n",
       "            '<a target=\"_blank\" href=https://colab.research.google.com/notebooks/data_table.ipynb>data table notebook</a>'\n",
       "            + ' to learn more about interactive tables.';\n",
       "          element.innerHTML = '';\n",
       "          dataTable['output_type'] = 'display_data';\n",
       "          await google.colab.output.renderOutput(dataTable, element);\n",
       "          const docLink = document.createElement('div');\n",
       "          docLink.innerHTML = docLinkHtml;\n",
       "          element.appendChild(docLink);\n",
       "        }\n",
       "      </script>\n",
       "    </div>\n",
       "  </div>\n",
       "  "
      ],
      "text/plain": [
       "        posting_id                                 image       image_phash  \\\n",
       "0  test_2255846744  0006c8e5462ae52167402bac1c2e916e.jpg  ecc292392dc7687a   \n",
       "1  test_3588702337  0007585c4d0f932859339129f709bfdc.jpg  e9968f60d2699e2c   \n",
       "2  test_4015706929  0008377d3662e83ef44e1881af38b879.jpg  ba81c17e3581cabe   \n",
       "\n",
       "                                               title  \n",
       "0  Edufuntoys - CHARACTER PHONE ada lampu dan mus...  \n",
       "1  (Beli 1 Free Spatula) Masker Komedo | Blackhea...  \n",
       "2   READY Lemonilo Mie instant sehat kuah dan goreng  "
      ]
     },
     "execution_count": 11,
     "metadata": {},
     "output_type": "execute_result"
    }
   ],
   "source": [
    "#The samples in test_csv will not be used during training\n",
    "test_csv=pd.read_csv('Data/test.csv')\n",
    "test_csv.head()"
   ]
  },
  {
   "cell_type": "code",
   "execution_count": 12,
   "id": "gJHh-T3EWQec",
   "metadata": {
    "colab": {
     "base_uri": "https://localhost:8080/",
     "height": 206
    },
    "executionInfo": {
     "elapsed": 264,
     "status": "ok",
     "timestamp": 1669171057820,
     "user": {
      "displayName": "Neil Chen",
      "userId": "13676878019206126902"
     },
     "user_tz": 300
    },
    "id": "gJHh-T3EWQec",
    "outputId": "1d1800ab-6597-42aa-d65e-445d2cc62364"
   },
   "outputs": [
    {
     "data": {
      "text/html": [
       "\n",
       "  <div id=\"df-2cef9da9-400f-49b9-9159-c748f2a37c73\">\n",
       "    <div class=\"colab-df-container\">\n",
       "      <div>\n",
       "<style scoped>\n",
       "    .dataframe tbody tr th:only-of-type {\n",
       "        vertical-align: middle;\n",
       "    }\n",
       "\n",
       "    .dataframe tbody tr th {\n",
       "        vertical-align: top;\n",
       "    }\n",
       "\n",
       "    .dataframe thead th {\n",
       "        text-align: right;\n",
       "    }\n",
       "</style>\n",
       "<table border=\"1\" class=\"dataframe\">\n",
       "  <thead>\n",
       "    <tr style=\"text-align: right;\">\n",
       "      <th></th>\n",
       "      <th>label_group</th>\n",
       "      <th>count</th>\n",
       "    </tr>\n",
       "  </thead>\n",
       "  <tbody>\n",
       "    <tr>\n",
       "      <th>0</th>\n",
       "      <td>994676122</td>\n",
       "      <td>51</td>\n",
       "    </tr>\n",
       "    <tr>\n",
       "      <th>1</th>\n",
       "      <td>1163569239</td>\n",
       "      <td>51</td>\n",
       "    </tr>\n",
       "    <tr>\n",
       "      <th>2</th>\n",
       "      <td>1141798720</td>\n",
       "      <td>51</td>\n",
       "    </tr>\n",
       "    <tr>\n",
       "      <th>3</th>\n",
       "      <td>159351600</td>\n",
       "      <td>51</td>\n",
       "    </tr>\n",
       "    <tr>\n",
       "      <th>4</th>\n",
       "      <td>562358068</td>\n",
       "      <td>51</td>\n",
       "    </tr>\n",
       "  </tbody>\n",
       "</table>\n",
       "</div>\n",
       "      <button class=\"colab-df-convert\" onclick=\"convertToInteractive('df-2cef9da9-400f-49b9-9159-c748f2a37c73')\"\n",
       "              title=\"Convert this dataframe to an interactive table.\"\n",
       "              style=\"display:none;\">\n",
       "        \n",
       "  <svg xmlns=\"http://www.w3.org/2000/svg\" height=\"24px\"viewBox=\"0 0 24 24\"\n",
       "       width=\"24px\">\n",
       "    <path d=\"M0 0h24v24H0V0z\" fill=\"none\"/>\n",
       "    <path d=\"M18.56 5.44l.94 2.06.94-2.06 2.06-.94-2.06-.94-.94-2.06-.94 2.06-2.06.94zm-11 1L8.5 8.5l.94-2.06 2.06-.94-2.06-.94L8.5 2.5l-.94 2.06-2.06.94zm10 10l.94 2.06.94-2.06 2.06-.94-2.06-.94-.94-2.06-.94 2.06-2.06.94z\"/><path d=\"M17.41 7.96l-1.37-1.37c-.4-.4-.92-.59-1.43-.59-.52 0-1.04.2-1.43.59L10.3 9.45l-7.72 7.72c-.78.78-.78 2.05 0 2.83L4 21.41c.39.39.9.59 1.41.59.51 0 1.02-.2 1.41-.59l7.78-7.78 2.81-2.81c.8-.78.8-2.07 0-2.86zM5.41 20L4 18.59l7.72-7.72 1.47 1.35L5.41 20z\"/>\n",
       "  </svg>\n",
       "      </button>\n",
       "      \n",
       "  <style>\n",
       "    .colab-df-container {\n",
       "      display:flex;\n",
       "      flex-wrap:wrap;\n",
       "      gap: 12px;\n",
       "    }\n",
       "\n",
       "    .colab-df-convert {\n",
       "      background-color: #E8F0FE;\n",
       "      border: none;\n",
       "      border-radius: 50%;\n",
       "      cursor: pointer;\n",
       "      display: none;\n",
       "      fill: #1967D2;\n",
       "      height: 32px;\n",
       "      padding: 0 0 0 0;\n",
       "      width: 32px;\n",
       "    }\n",
       "\n",
       "    .colab-df-convert:hover {\n",
       "      background-color: #E2EBFA;\n",
       "      box-shadow: 0px 1px 2px rgba(60, 64, 67, 0.3), 0px 1px 3px 1px rgba(60, 64, 67, 0.15);\n",
       "      fill: #174EA6;\n",
       "    }\n",
       "\n",
       "    [theme=dark] .colab-df-convert {\n",
       "      background-color: #3B4455;\n",
       "      fill: #D2E3FC;\n",
       "    }\n",
       "\n",
       "    [theme=dark] .colab-df-convert:hover {\n",
       "      background-color: #434B5C;\n",
       "      box-shadow: 0px 1px 3px 1px rgba(0, 0, 0, 0.15);\n",
       "      filter: drop-shadow(0px 1px 2px rgba(0, 0, 0, 0.3));\n",
       "      fill: #FFFFFF;\n",
       "    }\n",
       "  </style>\n",
       "\n",
       "      <script>\n",
       "        const buttonEl =\n",
       "          document.querySelector('#df-2cef9da9-400f-49b9-9159-c748f2a37c73 button.colab-df-convert');\n",
       "        buttonEl.style.display =\n",
       "          google.colab.kernel.accessAllowed ? 'block' : 'none';\n",
       "\n",
       "        async function convertToInteractive(key) {\n",
       "          const element = document.querySelector('#df-2cef9da9-400f-49b9-9159-c748f2a37c73');\n",
       "          const dataTable =\n",
       "            await google.colab.kernel.invokeFunction('convertToInteractive',\n",
       "                                                     [key], {});\n",
       "          if (!dataTable) return;\n",
       "\n",
       "          const docLinkHtml = 'Like what you see? Visit the ' +\n",
       "            '<a target=\"_blank\" href=https://colab.research.google.com/notebooks/data_table.ipynb>data table notebook</a>'\n",
       "            + ' to learn more about interactive tables.';\n",
       "          element.innerHTML = '';\n",
       "          dataTable['output_type'] = 'display_data';\n",
       "          await google.colab.output.renderOutput(dataTable, element);\n",
       "          const docLink = document.createElement('div');\n",
       "          docLink.innerHTML = docLinkHtml;\n",
       "          element.appendChild(docLink);\n",
       "        }\n",
       "      </script>\n",
       "    </div>\n",
       "  </div>\n",
       "  "
      ],
      "text/plain": [
       "   label_group  count\n",
       "0    994676122     51\n",
       "1   1163569239     51\n",
       "2   1141798720     51\n",
       "3    159351600     51\n",
       "4    562358068     51"
      ]
     },
     "execution_count": 12,
     "metadata": {},
     "output_type": "execute_result"
    }
   ],
   "source": [
    "train_csv.label_group.value_counts().reset_index().rename(columns={'index':'label_group','label_group':'count'}).head()"
   ]
  },
  {
   "cell_type": "code",
   "execution_count": 47,
   "id": "JdPACd2DZTgs",
   "metadata": {
    "executionInfo": {
     "elapsed": 204,
     "status": "ok",
     "timestamp": 1669171903023,
     "user": {
      "displayName": "Neil Chen",
      "userId": "13676878019206126902"
     },
     "user_tz": 300
    },
    "id": "JdPACd2DZTgs"
   },
   "outputs": [],
   "source": [
    "train_csv[\"image\"] = \"Data/train_images/\"+train_csv[\"image\"]\n",
    "train_csv[\"label_group\"] = train_csv[\"label_group\"].astype(\"str\")"
   ]
  },
  {
   "cell_type": "code",
   "execution_count": 48,
   "id": "ctACgLPkWQbi",
   "metadata": {
    "colab": {
     "base_uri": "https://localhost:8080/"
    },
    "executionInfo": {
     "elapsed": 3,
     "status": "ok",
     "timestamp": 1669171906164,
     "user": {
      "displayName": "Neil Chen",
      "userId": "13676878019206126902"
     },
     "user_tz": 300
    },
    "id": "ctACgLPkWQbi",
    "outputId": "624a5c58-2df6-4285-8de3-e21b73403055"
   },
   "outputs": [
    {
     "data": {
      "text/plain": [
       "{'994676122': 5,\n",
       " '1163569239': 5,\n",
       " '1141798720': 5,\n",
       " '159351600': 5,\n",
       " '562358068': 5,\n",
       " '3113678103': 5,\n",
       " '3627744656': 5,\n",
       " '3206118280': 4,\n",
       " '1733221456': 4,\n",
       " '1166650192': 4,\n",
       " '1091404026': 4,\n",
       " '3489985175': 4,\n",
       " '1237550763': 3,\n",
       " '1746655739': 3,\n",
       " '452508504': 3,\n",
       " '731330024': 3,\n",
       " '4184214313': 3,\n",
       " '2008989859': 3,\n",
       " '1575763518': 3,\n",
       " '66247839': 3,\n",
       " '871679006': 3,\n",
       " '952183003': 3,\n",
       " '2259957740': 3,\n",
       " '3001123709': 3,\n",
       " '2999794436': 3,\n",
       " '2935813666': 3,\n",
       " '3926100920': 3,\n",
       " '656698835': 3,\n",
       " '1226500780': 3,\n",
       " '997220911': 3,\n",
       " '1201602115': 2,\n",
       " '821583868': 2,\n",
       " '3717044186': 2,\n",
       " '3868183614': 2,\n",
       " '1135976474': 2,\n",
       " '3326267479': 2,\n",
       " '3040690230': 2,\n",
       " '927285629': 2,\n",
       " '1306578136': 2,\n",
       " '2156459496': 2,\n",
       " '4141124289': 2,\n",
       " '2123332638': 2,\n",
       " '418991059': 2,\n",
       " '1569494229': 2,\n",
       " '3441184770': 2,\n",
       " '777596345': 2,\n",
       " '1744240905': 2,\n",
       " '2956941947': 2,\n",
       " '1065450055': 2,\n",
       " '1544174053': 2,\n",
       " '1088754866': 2,\n",
       " '2911646536': 2,\n",
       " '4277487223': 2,\n",
       " '3433277712': 2,\n",
       " '962477933': 2,\n",
       " '1285119273': 2,\n",
       " '4038613836': 2,\n",
       " '2748623227': 2}"
      ]
     },
     "execution_count": 48,
     "metadata": {},
     "output_type": "execute_result"
    }
   ],
   "source": [
    "test_ratio=0.1\n",
    "label_count=train_csv.label_group.value_counts().reset_index().rename(columns={'index':'label_group','label_group':'count'})\n",
    "sample_num={}\n",
    "\n",
    "for i in range(label_count.shape[0]):\n",
    "    num_to_sample=label_count['count'].iloc[i]*test_ratio\n",
    "    if num_to_sample<2:\n",
    "        continue\n",
    "    sample_num[label_count['label_group'].iloc[i]]=int(num_to_sample)\n",
    "\n",
    "sample_num"
   ]
  },
  {
   "cell_type": "code",
   "execution_count": 49,
   "id": "nBJsXojPWQYu",
   "metadata": {
    "colab": {
     "base_uri": "https://localhost:8080/"
    },
    "executionInfo": {
     "elapsed": 1520,
     "status": "ok",
     "timestamp": 1669171911509,
     "user": {
      "displayName": "Neil Chen",
      "userId": "13676878019206126902"
     },
     "user_tz": 300
    },
    "id": "nBJsXojPWQYu",
    "outputId": "eff5b145-b42f-48e6-d0cf-734246027af4"
   },
   "outputs": [
    {
     "name": "stdout",
     "output_type": "stream",
     "text": [
      "TrainingSet Size:34085\n",
      "ValidationSet Size:165\n"
     ]
    }
   ],
   "source": [
    "valid_idx=[list(np.where(train_csv['label_group']==label)[0][:sample_num[label]]) for label in sample_num]\n",
    "valid_idx=[idx for group in valid_idx for idx in group]\n",
    "\n",
    "train_idx=[i for i in range(train_csv.shape[0]) if i not in valid_idx]\n",
    "\n",
    "print('TrainingSet Size:{}'.format(len(train_idx)))\n",
    "print('ValidationSet Size:{}'.format(len(valid_idx)))"
   ]
  },
  {
   "cell_type": "code",
   "execution_count": 50,
   "id": "XQvpj1rJWQR5",
   "metadata": {
    "executionInfo": {
     "elapsed": 211,
     "status": "ok",
     "timestamp": 1669171913374,
     "user": {
      "displayName": "Neil Chen",
      "userId": "13676878019206126902"
     },
     "user_tz": 300
    },
    "id": "XQvpj1rJWQR5"
   },
   "outputs": [],
   "source": [
    "train = train_csv.iloc[train_idx,:]\n",
    "test = train_csv.iloc[valid_idx,:]"
   ]
  },
  {
   "cell_type": "code",
   "execution_count": 54,
   "id": "WmhCfVAtX-I9",
   "metadata": {
    "executionInfo": {
     "elapsed": 2,
     "status": "ok",
     "timestamp": 1669172028875,
     "user": {
      "displayName": "Neil Chen",
      "userId": "13676878019206126902"
     },
     "user_tz": 300
    },
    "id": "WmhCfVAtX-I9"
   },
   "outputs": [],
   "source": [
    "#train, val = train_test_split(train, test_size=0.3, stratify=train[\"label_group\"], random_state=910)"
   ]
  },
  {
   "cell_type": "markdown",
   "id": "3589dbf8-78c4-4d38-aeba-db3c23c46110",
   "metadata": {
    "id": "3589dbf8-78c4-4d38-aeba-db3c23c46110"
   },
   "source": [
    "## 3. Convert Images into Numeric Array"
   ]
  },
  {
   "cell_type": "code",
   "execution_count": 26,
   "id": "EGMWgLCPXJJ0",
   "metadata": {
    "executionInfo": {
     "elapsed": 3,
     "status": "ok",
     "timestamp": 1669171398806,
     "user": {
      "displayName": "Neil Chen",
      "userId": "13676878019206126902"
     },
     "user_tz": 300
    },
    "id": "EGMWgLCPXJJ0"
   },
   "outputs": [],
   "source": [
    "batch_size=64"
   ]
  },
  {
   "cell_type": "code",
   "execution_count": 27,
   "id": "bd7a1b39-dc30-4d6d-abdb-b4052f29ae0e",
   "metadata": {
    "executionInfo": {
     "elapsed": 2,
     "status": "ok",
     "timestamp": 1669171398806,
     "user": {
      "displayName": "Neil Chen",
      "userId": "13676878019206126902"
     },
     "user_tz": 300
    },
    "id": "bd7a1b39-dc30-4d6d-abdb-b4052f29ae0e"
   },
   "outputs": [],
   "source": [
    "# build image data generator\n",
    "img_datagen = ImageDataGenerator(rescale=1./255, \n",
    "                                   rotation_range=30, \n",
    "                                   width_shift_range=0.2,\n",
    "                                   height_shift_range=0.2, \n",
    "                                   horizontal_flip = 'true')"
   ]
  },
  {
   "cell_type": "code",
   "execution_count": 31,
   "id": "91f975f1",
   "metadata": {
    "colab": {
     "base_uri": "https://localhost:8080/"
    },
    "executionInfo": {
     "elapsed": 3750,
     "status": "ok",
     "timestamp": 1669171547252,
     "user": {
      "displayName": "Neil Chen",
      "userId": "13676878019206126902"
     },
     "user_tz": 300
    },
    "id": "91f975f1",
    "outputId": "442019a8-6b71-4ff1-d94b-de9de1327fd3"
   },
   "outputs": [
    {
     "name": "stdout",
     "output_type": "stream",
     "text": [
      "Found 34085 validated image filenames belonging to 11014 classes.\n"
     ]
    }
   ],
   "source": [
    "train_generator=img_datagen.flow_from_dataframe(dataframe=train,\n",
    "                                                x_col=\"image\",\n",
    "                                                y_col=\"label_group\",\n",
    "                                                batch_size=batch_size,\n",
    "                                                seed=910,\n",
    "                                                shuffle=False,\n",
    "                                                target_size=(224, 224))"
   ]
  },
  {
   "cell_type": "code",
   "execution_count": 32,
   "id": "7c54fbd8",
   "metadata": {
    "colab": {
     "base_uri": "https://localhost:8080/"
    },
    "executionInfo": {
     "elapsed": 299,
     "status": "ok",
     "timestamp": 1669171567405,
     "user": {
      "displayName": "Neil Chen",
      "userId": "13676878019206126902"
     },
     "user_tz": 300
    },
    "id": "7c54fbd8",
    "outputId": "fe2ed8fa-9928-48e6-f5ad-3a83303325f0"
   },
   "outputs": [
    {
     "name": "stdout",
     "output_type": "stream",
     "text": [
      "Found 165 validated image filenames belonging to 58 classes.\n"
     ]
    }
   ],
   "source": [
    "test_generator=img_datagen.flow_from_dataframe(dataframe=test,\n",
    "                                               x_col=\"image\",\n",
    "                                                y_col=\"label_group\",\n",
    "                                               batch_size=batch_size,\n",
    "                                               seed=3313,\n",
    "                                               shuffle=False,\n",
    "                                               target_size=(299, 299))"
   ]
  },
  {
   "cell_type": "markdown",
   "id": "OjeFw4WuIP_X",
   "metadata": {
    "id": "OjeFw4WuIP_X"
   },
   "source": [
    "## 4. Define Common Model Parameters"
   ]
  },
  {
   "cell_type": "code",
   "execution_count": 81,
   "id": "WQZOGuIPIPVU",
   "metadata": {
    "colab": {
     "base_uri": "https://localhost:8080/"
    },
    "executionInfo": {
     "elapsed": 224,
     "status": "ok",
     "timestamp": 1669172961802,
     "user": {
      "displayName": "Neil Chen",
      "userId": "13676878019206126902"
     },
     "user_tz": 300
    },
    "id": "WQZOGuIPIPVU",
    "outputId": "5a1a7058-b7c1-40c6-8905-c0cbd5e17673"
   },
   "outputs": [
    {
     "name": "stdout",
     "output_type": "stream",
     "text": [
      "532 11014\n"
     ]
    }
   ],
   "source": [
    "steps_per_epoch = len(train)//batch_size\n",
    "#validation_steps = len(test)//batch_size\n",
    "N_label = len(set(train.label_group))\n",
    "print(steps_per_epoch, N_label)"
   ]
  },
  {
   "cell_type": "code",
   "execution_count": 82,
   "id": "TdC2oSFzIOdo",
   "metadata": {
    "executionInfo": {
     "elapsed": 2,
     "status": "ok",
     "timestamp": 1669172963877,
     "user": {
      "displayName": "Neil Chen",
      "userId": "13676878019206126902"
     },
     "user_tz": 300
    },
    "id": "TdC2oSFzIOdo"
   },
   "outputs": [],
   "source": [
    " from keras import callbacks\n",
    " callback = callbacks.EarlyStopping(monitor='loss', patience=3, verbose=1, mode='auto', min_delta=0)"
   ]
  },
  {
   "cell_type": "markdown",
   "id": "4da9dcbd",
   "metadata": {
    "id": "4da9dcbd"
   },
   "source": [
    "## 5. Model - InceptionV3"
   ]
  },
  {
   "cell_type": "code",
   "execution_count": 83,
   "id": "5fd42303-a824-44d9-8fd3-08932deb42d5",
   "metadata": {
    "executionInfo": {
     "elapsed": 1,
     "status": "ok",
     "timestamp": 1669172965790,
     "user": {
      "displayName": "Neil Chen",
      "userId": "13676878019206126902"
     },
     "user_tz": 300
    },
    "id": "5fd42303-a824-44d9-8fd3-08932deb42d5"
   },
   "outputs": [],
   "source": [
    "from sklearn.metrics import confusion_matrix, roc_auc_score, classification_report\n",
    "from tensorflow.keras.optimizers import Adam, SGD, RMSprop\n",
    "import tensorflow as tf\n",
    "from scipy import ndimage, misc\n",
    "import skimage\n",
    "from keras.applications.inception_v3 import InceptionV3, preprocess_input\n",
    "from keras.models import Sequential\n",
    "from keras.layers.pooling import GlobalAveragePooling2D\n",
    "from tensorflow.keras.layers import Dense, Dropout"
   ]
  },
  {
   "cell_type": "code",
   "execution_count": 84,
   "id": "796d2f4f-3307-492a-9440-868a596b37ef",
   "metadata": {
    "executionInfo": {
     "elapsed": 1952,
     "status": "ok",
     "timestamp": 1669172968626,
     "user": {
      "displayName": "Neil Chen",
      "userId": "13676878019206126902"
     },
     "user_tz": 300
    },
    "id": "796d2f4f-3307-492a-9440-868a596b37ef"
   },
   "outputs": [],
   "source": [
    "i_model = InceptionV3(weights= 'imagenet', include_top=False, input_shape=(224, 224, 3))"
   ]
  },
  {
   "cell_type": "code",
   "execution_count": 85,
   "id": "e75e7470-be64-4a67-961a-d179501baaeb",
   "metadata": {
    "executionInfo": {
     "elapsed": 4,
     "status": "ok",
     "timestamp": 1669172968627,
     "user": {
      "displayName": "Neil Chen",
      "userId": "13676878019206126902"
     },
     "user_tz": 300
    },
    "id": "e75e7470-be64-4a67-961a-d179501baaeb"
   },
   "outputs": [],
   "source": [
    "for layer in i_model.layers:\n",
    "    layer.trainable = False"
   ]
  },
  {
   "cell_type": "code",
   "execution_count": 86,
   "id": "c3864f61-ff3d-453a-b0f6-9874573f1fe5",
   "metadata": {
    "executionInfo": {
     "elapsed": 3,
     "status": "ok",
     "timestamp": 1669172968627,
     "user": {
      "displayName": "Neil Chen",
      "userId": "13676878019206126902"
     },
     "user_tz": 300
    },
    "id": "c3864f61-ff3d-453a-b0f6-9874573f1fe5"
   },
   "outputs": [],
   "source": [
    "def build_inceptionv3():\n",
    "    model = Sequential()\n",
    "    model.add(i_model)\n",
    "    model.add(GlobalAveragePooling2D())\n",
    "    model.add(Dense(128))\n",
    "    model.add(Dropout(0.2))\n",
    "    model.add(Dense(N_label, activation = 'softmax'))\n",
    "    #model.summary()\n",
    "    model.compile(optimizer = Adam(),\n",
    "                  loss=\"categorical_crossentropy\",\n",
    "                  metrics=[\"accuracy\"])\n",
    "    return model"
   ]
  },
  {
   "cell_type": "code",
   "execution_count": 87,
   "id": "0c194dfd-65cb-445a-bf0a-3608f7bb8a10",
   "metadata": {
    "executionInfo": {
     "elapsed": 254,
     "status": "ok",
     "timestamp": 1669172968878,
     "user": {
      "displayName": "Neil Chen",
      "userId": "13676878019206126902"
     },
     "user_tz": 300
    },
    "id": "0c194dfd-65cb-445a-bf0a-3608f7bb8a10"
   },
   "outputs": [],
   "source": [
    "model_inceptionv3 = build_inceptionv3()"
   ]
  },
  {
   "cell_type": "code",
   "execution_count": 88,
   "id": "zlI6-eu2JycW",
   "metadata": {
    "colab": {
     "base_uri": "https://localhost:8080/"
    },
    "executionInfo": {
     "elapsed": 6,
     "status": "ok",
     "timestamp": 1669172968878,
     "user": {
      "displayName": "Neil Chen",
      "userId": "13676878019206126902"
     },
     "user_tz": 300
    },
    "id": "zlI6-eu2JycW",
    "outputId": "a780de3c-8752-4743-d332-d4ef6f4e5412"
   },
   "outputs": [
    {
     "name": "stdout",
     "output_type": "stream",
     "text": [
      "Model: \"sequential_4\"\n",
      "_________________________________________________________________\n",
      " Layer (type)                Output Shape              Param #   \n",
      "=================================================================\n",
      " inception_v3 (Functional)   (None, 5, 5, 2048)        21802784  \n",
      "                                                                 \n",
      " global_average_pooling2d_4   (None, 2048)             0         \n",
      " (GlobalAveragePooling2D)                                        \n",
      "                                                                 \n",
      " dense_8 (Dense)             (None, 128)               262272    \n",
      "                                                                 \n",
      " dropout_4 (Dropout)         (None, 128)               0         \n",
      "                                                                 \n",
      " dense_9 (Dense)             (None, 11014)             1420806   \n",
      "                                                                 \n",
      "=================================================================\n",
      "Total params: 23,485,862\n",
      "Trainable params: 1,683,078\n",
      "Non-trainable params: 21,802,784\n",
      "_________________________________________________________________\n"
     ]
    }
   ],
   "source": [
    "model_inceptionv3.summary()"
   ]
  },
  {
   "cell_type": "code",
   "execution_count": 89,
   "id": "4be79d26-733a-41e9-a10b-c4b27f769ee5",
   "metadata": {
    "colab": {
     "base_uri": "https://localhost:8080/"
    },
    "executionInfo": {
     "elapsed": 8804268,
     "status": "ok",
     "timestamp": 1669181775017,
     "user": {
      "displayName": "Neil Chen",
      "userId": "13676878019206126902"
     },
     "user_tz": 300
    },
    "id": "4be79d26-733a-41e9-a10b-c4b27f769ee5",
    "outputId": "7ef13182-30e2-46b6-e9eb-b0c58e306abf"
   },
   "outputs": [
    {
     "name": "stdout",
     "output_type": "stream",
     "text": [
      "Epoch 1/15\n",
      "532/532 - 612s - loss: 8.7661 - accuracy: 0.0251 - 612s/epoch - 1s/step\n",
      "Epoch 2/15\n",
      "532/532 - 588s - loss: 6.7325 - accuracy: 0.1144 - 588s/epoch - 1s/step\n",
      "Epoch 3/15\n",
      "532/532 - 585s - loss: 4.7136 - accuracy: 0.2440 - 585s/epoch - 1s/step\n",
      "Epoch 4/15\n",
      "532/532 - 581s - loss: 3.3918 - accuracy: 0.3760 - 581s/epoch - 1s/step\n",
      "Epoch 5/15\n",
      "532/532 - 581s - loss: 2.5958 - accuracy: 0.4830 - 581s/epoch - 1s/step\n",
      "Epoch 6/15\n",
      "532/532 - 588s - loss: 2.0733 - accuracy: 0.5669 - 588s/epoch - 1s/step\n",
      "Epoch 7/15\n",
      "532/532 - 583s - loss: 1.7254 - accuracy: 0.6267 - 583s/epoch - 1s/step\n",
      "Epoch 8/15\n",
      "532/532 - 586s - loss: 1.4858 - accuracy: 0.6684 - 586s/epoch - 1s/step\n",
      "Epoch 9/15\n",
      "532/532 - 581s - loss: 1.3396 - accuracy: 0.6963 - 581s/epoch - 1s/step\n",
      "Epoch 10/15\n",
      "532/532 - 582s - loss: 1.2123 - accuracy: 0.7223 - 582s/epoch - 1s/step\n",
      "Epoch 11/15\n",
      "532/532 - 580s - loss: 1.1251 - accuracy: 0.7390 - 580s/epoch - 1s/step\n",
      "Epoch 12/15\n",
      "532/532 - 579s - loss: 1.0482 - accuracy: 0.7552 - 579s/epoch - 1s/step\n",
      "Epoch 13/15\n",
      "532/532 - 582s - loss: 0.9739 - accuracy: 0.7718 - 582s/epoch - 1s/step\n",
      "Epoch 14/15\n",
      "532/532 - 586s - loss: 0.9366 - accuracy: 0.7803 - 586s/epoch - 1s/step\n",
      "Epoch 15/15\n",
      "532/532 - 593s - loss: 0.8824 - accuracy: 0.7920 - 593s/epoch - 1s/step\n"
     ]
    }
   ],
   "source": [
    "with tf.device('/device:GPU:0'):\n",
    "  history_inceptionv3 = model_inceptionv3.fit(train_generator, \n",
    "                                              steps_per_epoch = steps_per_epoch,\n",
    "                                              epochs = 15, \n",
    "                                              callbacks=[callback],\n",
    "                                              verbose = 2)"
   ]
  },
  {
   "cell_type": "code",
   "execution_count": 91,
   "id": "HraMhlbYNPbv",
   "metadata": {
    "colab": {
     "base_uri": "https://localhost:8080/"
    },
    "executionInfo": {
     "elapsed": 33453,
     "status": "ok",
     "timestamp": 1669182033330,
     "user": {
      "displayName": "Neil Chen",
      "userId": "13676878019206126902"
     },
     "user_tz": 300
    },
    "id": "HraMhlbYNPbv",
    "outputId": "61dc5972-1d1e-415f-d8aa-a9881e67c637"
   },
   "outputs": [
    {
     "name": "stderr",
     "output_type": "stream",
     "text": [
      "WARNING:absl:Found untraced functions such as _jit_compiled_convolution_op, _jit_compiled_convolution_op, _jit_compiled_convolution_op, _jit_compiled_convolution_op, _jit_compiled_convolution_op while saving (showing 5 of 94). These functions will not be directly callable after loading.\n"
     ]
    }
   ],
   "source": [
    "model_inceptionv3.save(\"inceptionv3\")"
   ]
  },
  {
   "cell_type": "code",
   "execution_count": 92,
   "id": "uJr74BjCXPs0",
   "metadata": {
    "colab": {
     "base_uri": "https://localhost:8080/"
    },
    "executionInfo": {
     "elapsed": 598826,
     "status": "ok",
     "timestamp": 1669182722699,
     "user": {
      "displayName": "Neil Chen",
      "userId": "13676878019206126902"
     },
     "user_tz": 300
    },
    "id": "uJr74BjCXPs0",
    "outputId": "872840fe-c311-4fd5-e1b5-06b62c6a252a"
   },
   "outputs": [
    {
     "name": "stdout",
     "output_type": "stream",
     "text": [
      "533/533 [==============================] - 594s 1s/step\n"
     ]
    }
   ],
   "source": [
    "X_train_prob_matrix = model_inceptionv3.predict(train_generator)"
   ]
  },
  {
   "cell_type": "code",
   "execution_count": 94,
   "id": "vHgjg6ffCxi9",
   "metadata": {
    "executionInfo": {
     "elapsed": 5625,
     "status": "ok",
     "timestamp": 1669182770223,
     "user": {
      "displayName": "Neil Chen",
      "userId": "13676878019206126902"
     },
     "user_tz": 300
    },
    "id": "vHgjg6ffCxi9"
   },
   "outputs": [],
   "source": [
    "np.save(\"X_train_prob_matrix\", X_train_prob_matrix)"
   ]
  },
  {
   "cell_type": "code",
   "execution_count": 95,
   "id": "TOzLDPrqDQFy",
   "metadata": {
    "colab": {
     "base_uri": "https://localhost:8080/"
    },
    "executionInfo": {
     "elapsed": 7856,
     "status": "ok",
     "timestamp": 1669182873663,
     "user": {
      "displayName": "Neil Chen",
      "userId": "13676878019206126902"
     },
     "user_tz": 300
    },
    "id": "TOzLDPrqDQFy",
    "outputId": "a52be277-bb44-45cd-9785-46960b559211"
   },
   "outputs": [
    {
     "name": "stdout",
     "output_type": "stream",
     "text": [
      "3/3 [==============================] - 7s 3s/step\n"
     ]
    }
   ],
   "source": [
    "X_test_prob_matrix = model_inceptionv3.predict(test_generator)"
   ]
  },
  {
   "cell_type": "code",
   "execution_count": 96,
   "id": "3Yh6JH49DTlL",
   "metadata": {
    "executionInfo": {
     "elapsed": 362,
     "status": "ok",
     "timestamp": 1669182880271,
     "user": {
      "displayName": "Neil Chen",
      "userId": "13676878019206126902"
     },
     "user_tz": 300
    },
    "id": "3Yh6JH49DTlL"
   },
   "outputs": [],
   "source": [
    "np.save(\"X_test_prob_matrix\", X_test_prob_matrix)"
   ]
  },
  {
   "cell_type": "markdown",
   "id": "dSnvJ7E94ihd",
   "metadata": {
    "id": "dSnvJ7E94ihd"
   },
   "source": [
    "## 6. Model - Xception"
   ]
  },
  {
   "cell_type": "code",
   "execution_count": null,
   "id": "hf2Xmqvk4iPV",
   "metadata": {
    "id": "hf2Xmqvk4iPV"
   },
   "outputs": [],
   "source": [
    "from tensorflow.keras.applications import Xception\n",
    "\n",
    "i_model = Xception(weights= 'imagenet', include_top=False, input_shape=(224, 224, 3))\n",
    "\n",
    "for layer in i_model.layers:\n",
    "    layer.trainable = False\n",
    "\n",
    "def build_xception():\n",
    "    model = Sequential()\n",
    "    model.add(i_model)\n",
    "    model.add(GlobalAveragePooling2D())\n",
    "    model.add(Dense(128))\n",
    "    model.add(Dropout(0.2))\n",
    "    model.add(Dense(5, activation = 'softmax'))\n",
    "    #model.summary()\n",
    "    model.compile(optimizer = Adam(),\n",
    "                  loss=\"categorical_crossentropy\",\n",
    "                  metrics=[\"accuracy\"])\n",
    "    return model\n",
    "\n",
    "model_xception = build_xception()"
   ]
  },
  {
   "cell_type": "code",
   "execution_count": null,
   "id": "dY-0Xrl34peR",
   "metadata": {
    "colab": {
     "base_uri": "https://localhost:8080/"
    },
    "executionInfo": {
     "elapsed": 421749,
     "status": "ok",
     "timestamp": 1668400370042,
     "user": {
      "displayName": "Neil Chen",
      "userId": "13676878019206126902"
     },
     "user_tz": 300
    },
    "id": "dY-0Xrl34peR",
    "outputId": "208b410c-876b-48ed-ea85-acf181f94e36"
   },
   "outputs": [
    {
     "name": "stdout",
     "output_type": "stream",
     "text": [
      "Epoch 1/15\n",
      "37/37 - 300s - loss: 0.9205 - accuracy: 0.6338 - val_loss: 0.5730 - val_accuracy: 0.8343 - 300s/epoch - 8s/step\n",
      "Epoch 2/15\n",
      "37/37 - 23s - loss: 0.5227 - accuracy: 0.8081 - val_loss: 0.6986 - val_accuracy: 0.7829 - 23s/epoch - 613ms/step\n",
      "Epoch 3/15\n",
      "37/37 - 23s - loss: 0.4794 - accuracy: 0.8344 - val_loss: 0.6746 - val_accuracy: 0.7886 - 23s/epoch - 617ms/step\n",
      "Epoch 4/15\n",
      "37/37 - 23s - loss: 0.4045 - accuracy: 0.8607 - val_loss: 0.5822 - val_accuracy: 0.8057 - 23s/epoch - 613ms/step\n",
      "Epoch 5/15\n",
      "37/37 - 23s - loss: 0.3686 - accuracy: 0.8651 - val_loss: 0.5782 - val_accuracy: 0.8114 - 23s/epoch - 611ms/step\n",
      "Epoch 6/15\n",
      "37/37 - 23s - loss: 0.3675 - accuracy: 0.8673 - val_loss: 0.6287 - val_accuracy: 0.7886 - 23s/epoch - 616ms/step\n",
      "Epoch 6: early stopping\n"
     ]
    }
   ],
   "source": [
    "with tf.device('/device:GPU:0'):\n",
    "  history_xception = model_xception.fit(train_generator, \n",
    "                                        validation_data = val_generator,\n",
    "                                        steps_per_epoch = steps_per_epoch,\n",
    "                                        validation_steps = validation_steps, \n",
    "                                        callbacks=[callback],\n",
    "                                        epochs = 15, \n",
    "                                        verbose = 2)"
   ]
  },
  {
   "cell_type": "markdown",
   "id": "f1eccd0d",
   "metadata": {
    "id": "f1eccd0d"
   },
   "source": [
    "## 8. Model - ResNet 18"
   ]
  },
  {
   "cell_type": "code",
   "execution_count": null,
   "id": "5e0b7001-a820-45cd-a197-4daffa8cf6c0",
   "metadata": {
    "id": "5e0b7001-a820-45cd-a197-4daffa8cf6c0"
   },
   "outputs": [],
   "source": [
    "r_model = tf.keras.applications.ResNet101V2(weights= 'imagenet', include_top=False, input_shape=(224, 224, 3))\n",
    "\n",
    "for layer in r_model.layers:\n",
    "    layer.trainable = False\n",
    "    \n",
    "#r_model.summary()\n",
    "\n",
    "def build_resnet101():\n",
    "    model = Sequential()\n",
    "    model.add(r_model)\n",
    "    model.add(GlobalAveragePooling2D())\n",
    "    model.add(Dense(128))\n",
    "    model.add(Dropout(0.2))\n",
    "    model.add(Dense(units=5, activation = 'softmax'))\n",
    "    model.compile(optimizer = Adam(),\n",
    "                  loss=\"categorical_crossentropy\",\n",
    "                  metrics=[\"accuracy\"])\n",
    "    return model"
   ]
  },
  {
   "cell_type": "code",
   "execution_count": null,
   "id": "a131834c",
   "metadata": {
    "colab": {
     "base_uri": "https://localhost:8080/"
    },
    "executionInfo": {
     "elapsed": 906,
     "status": "ok",
     "timestamp": 1664598977006,
     "user": {
      "displayName": "Neil Chen",
      "userId": "13676878019206126902"
     },
     "user_tz": 240
    },
    "id": "a131834c",
    "outputId": "2cf4b320-5438-4ae0-aa8a-ffad17cf44fa"
   },
   "outputs": [
    {
     "name": "stdout",
     "output_type": "stream",
     "text": [
      "Model: \"sequential_14\"\n",
      "_________________________________________________________________\n",
      " Layer (type)                Output Shape              Param #   \n",
      "=================================================================\n",
      " resnet101v2 (Functional)    (None, 10, 10, 2048)      42626560  \n",
      "                                                                 \n",
      " global_average_pooling2d_14  (None, 2048)             0         \n",
      "  (GlobalAveragePooling2D)                                       \n",
      "                                                                 \n",
      " dense_40 (Dense)            (None, 128)               262272    \n",
      "                                                                 \n",
      " dropout_18 (Dropout)        (None, 128)               0         \n",
      "                                                                 \n",
      " dense_41 (Dense)            (None, 5)                 645       \n",
      "                                                                 \n",
      "=================================================================\n",
      "Total params: 42,889,477\n",
      "Trainable params: 262,917\n",
      "Non-trainable params: 42,626,560\n",
      "_________________________________________________________________\n"
     ]
    }
   ],
   "source": [
    "model_resnet101v2 = build_resnet101()\n",
    "model_resnet101v2.summary()"
   ]
  },
  {
   "cell_type": "code",
   "execution_count": null,
   "id": "a1860d6a",
   "metadata": {
    "colab": {
     "base_uri": "https://localhost:8080/"
    },
    "executionInfo": {
     "elapsed": 1324025,
     "status": "ok",
     "timestamp": 1664600302236,
     "user": {
      "displayName": "Neil Chen",
      "userId": "13676878019206126902"
     },
     "user_tz": 240
    },
    "id": "a1860d6a",
    "outputId": "dfff7162-64bb-4f80-b861-4e426198c66a"
   },
   "outputs": [
    {
     "name": "stdout",
     "output_type": "stream",
     "text": [
      "Epoch 1/15\n",
      "150/150 - 98s - loss: 0.8390 - accuracy: 0.7317 - val_loss: 0.5955 - val_accuracy: 0.8253 - 98s/epoch - 653ms/step\n",
      "Epoch 2/15\n",
      "150/150 - 88s - loss: 0.5503 - accuracy: 0.8232 - val_loss: 0.6201 - val_accuracy: 0.8240 - 88s/epoch - 589ms/step\n",
      "Epoch 3/15\n",
      "150/150 - 91s - loss: 0.4932 - accuracy: 0.8328 - val_loss: 0.5111 - val_accuracy: 0.8347 - 91s/epoch - 605ms/step\n",
      "Epoch 4/15\n",
      "150/150 - 88s - loss: 0.4315 - accuracy: 0.8509 - val_loss: 0.5074 - val_accuracy: 0.8347 - 88s/epoch - 589ms/step\n",
      "Epoch 5/15\n",
      "150/150 - 89s - loss: 0.4001 - accuracy: 0.8592 - val_loss: 0.5292 - val_accuracy: 0.8280 - 89s/epoch - 591ms/step\n",
      "Epoch 6/15\n",
      "150/150 - 88s - loss: 0.4108 - accuracy: 0.8565 - val_loss: 0.5396 - val_accuracy: 0.8280 - 88s/epoch - 588ms/step\n",
      "Epoch 7/15\n",
      "150/150 - 88s - loss: 0.3756 - accuracy: 0.8696 - val_loss: 0.5538 - val_accuracy: 0.8133 - 88s/epoch - 584ms/step\n",
      "Epoch 8/15\n",
      "150/150 - 87s - loss: 0.3488 - accuracy: 0.8802 - val_loss: 0.5311 - val_accuracy: 0.8333 - 87s/epoch - 579ms/step\n",
      "Epoch 9/15\n",
      "150/150 - 87s - loss: 0.3369 - accuracy: 0.8805 - val_loss: 0.4870 - val_accuracy: 0.8560 - 87s/epoch - 579ms/step\n",
      "Epoch 10/15\n",
      "150/150 - 86s - loss: 0.3197 - accuracy: 0.8869 - val_loss: 0.4781 - val_accuracy: 0.8373 - 86s/epoch - 575ms/step\n",
      "Epoch 11/15\n",
      "150/150 - 87s - loss: 0.3413 - accuracy: 0.8834 - val_loss: 0.5008 - val_accuracy: 0.8293 - 87s/epoch - 579ms/step\n",
      "Epoch 12/15\n",
      "150/150 - 87s - loss: 0.3238 - accuracy: 0.8829 - val_loss: 0.5071 - val_accuracy: 0.8387 - 87s/epoch - 578ms/step\n",
      "Epoch 13/15\n",
      "150/150 - 87s - loss: 0.3036 - accuracy: 0.8928 - val_loss: 0.4844 - val_accuracy: 0.8547 - 87s/epoch - 577ms/step\n",
      "Epoch 14/15\n",
      "150/150 - 87s - loss: 0.3019 - accuracy: 0.8890 - val_loss: 0.4780 - val_accuracy: 0.8587 - 87s/epoch - 578ms/step\n",
      "Epoch 15/15\n",
      "150/150 - 87s - loss: 0.2902 - accuracy: 0.8992 - val_loss: 0.4831 - val_accuracy: 0.8427 - 87s/epoch - 577ms/step\n"
     ]
    }
   ],
   "source": [
    "with tf.device('/device:GPU:0'):\n",
    "  hist_resnet50 = model_resnet101v2.fit(train_generator,\n",
    "                                     validation_data= val_generator, \n",
    "                                     steps_per_epoch = steps_per_epoch,\n",
    "                                     validation_steps = validation_steps,\n",
    "                                     epochs=15,\n",
    "                                     callbacks = [callback],\n",
    "                                     verbose = 2)"
   ]
  },
  {
   "cell_type": "markdown",
   "id": "4207de6d",
   "metadata": {
    "id": "4207de6d"
   },
   "source": [
    "## 9. Model Evaluation & Selection"
   ]
  },
  {
   "cell_type": "code",
   "execution_count": null,
   "id": "8uwvKbZCzQYc",
   "metadata": {
    "id": "8uwvKbZCzQYc"
   },
   "outputs": [],
   "source": [
    "from sklearn.metrics import classification_report, plot_confusion_matrix"
   ]
  },
  {
   "cell_type": "code",
   "execution_count": null,
   "id": "Tc3POfDHS-5O",
   "metadata": {
    "id": "Tc3POfDHS-5O"
   },
   "outputs": [],
   "source": [
    "model_inceptionv3 = tf.keras.models.load_model('inceptionv3')"
   ]
  },
  {
   "cell_type": "code",
   "execution_count": null,
   "id": "kS4l4msCyXF0",
   "metadata": {
    "id": "kS4l4msCyXF0"
   },
   "outputs": [],
   "source": [
    "model_xception = tf.keras.models.load_model('xception')"
   ]
  },
  {
   "cell_type": "code",
   "execution_count": null,
   "id": "VaHzrKabVxt9",
   "metadata": {
    "id": "VaHzrKabVxt9"
   },
   "outputs": [],
   "source": [
    "localhost_save_option = tf.saved_model.SaveOptions(experimental_io_device=\"/job:localhost\")"
   ]
  },
  {
   "cell_type": "code",
   "execution_count": null,
   "id": "nHV7UKBZVxrV",
   "metadata": {
    "colab": {
     "base_uri": "https://localhost:8080/"
    },
    "executionInfo": {
     "elapsed": 17825,
     "status": "ok",
     "timestamp": 1668013417667,
     "user": {
      "displayName": "Neil Chen",
      "userId": "13676878019206126902"
     },
     "user_tz": 300
    },
    "id": "nHV7UKBZVxrV",
    "outputId": "fb104d52-ade8-4858-d89e-63c55a522719"
   },
   "outputs": [
    {
     "name": "stderr",
     "output_type": "stream",
     "text": [
      "WARNING:absl:Found untraced functions such as _jit_compiled_convolution_op, _jit_compiled_convolution_op, _jit_compiled_convolution_op, _jit_compiled_convolution_op, _jit_compiled_convolution_op while saving (showing 5 of 40). These functions will not be directly callable after loading.\n"
     ]
    }
   ],
   "source": [
    "model_xception.save(\"xception_local\", options=localhost_save_option)"
   ]
  },
  {
   "cell_type": "code",
   "execution_count": null,
   "id": "MYKabnVHWQNB",
   "metadata": {
    "id": "MYKabnVHWQNB"
   },
   "outputs": [],
   "source": [
    "model_xception_local = tf.keras.models.load_model('xception_local')"
   ]
  },
  {
   "cell_type": "code",
   "execution_count": null,
   "id": "KiH8gyCTyhUU",
   "metadata": {
    "id": "KiH8gyCTyhUU"
   },
   "outputs": [],
   "source": [
    "model_vgg16 = tf.keras.models.load_model('vgg16')"
   ]
  },
  {
   "cell_type": "code",
   "execution_count": null,
   "id": "BUiAmdXh68ml",
   "metadata": {
    "id": "BUiAmdXh68ml"
   },
   "outputs": [],
   "source": [
    "model_resnet = tf.keras.models.load_model(\"resnet\")"
   ]
  },
  {
   "cell_type": "code",
   "execution_count": null,
   "id": "KfUejDsNyqZz",
   "metadata": {
    "colab": {
     "base_uri": "https://localhost:8080/"
    },
    "executionInfo": {
     "elapsed": 356,
     "status": "ok",
     "timestamp": 1664600575634,
     "user": {
      "displayName": "Neil Chen",
      "userId": "13676878019206126902"
     },
     "user_tz": 240
    },
    "id": "KfUejDsNyqZz",
    "outputId": "ef57d73f-d54d-4df8-b156-deccc1c3cac5"
   },
   "outputs": [
    {
     "data": {
      "text/plain": [
       "{'Bombay': 0, 'Calico': 1, 'Persian': 2, 'Ragdoll': 3, 'Tuxedo': 4}"
      ]
     },
     "execution_count": 139,
     "metadata": {},
     "output_type": "execute_result"
    }
   ],
   "source": [
    "labels = test_generator.class_indices\n",
    "labels"
   ]
  },
  {
   "cell_type": "code",
   "execution_count": null,
   "id": "tXuRdnrky57x",
   "metadata": {
    "id": "tXuRdnrky57x"
   },
   "outputs": [],
   "source": [
    "test_true = test[\"Labels\"].replace(labels)"
   ]
  },
  {
   "cell_type": "code",
   "execution_count": null,
   "id": "OQJtiCSey7kK",
   "metadata": {
    "id": "OQJtiCSey7kK"
   },
   "outputs": [],
   "source": [
    "predictions_prob_i = model_inceptionv3.predict(test_generator)\n",
    "predictions_i =predictions_prob_i.argmax(axis=1)\n",
    "#predictions_i"
   ]
  },
  {
   "cell_type": "code",
   "execution_count": null,
   "id": "zuFlP2hUy7h0",
   "metadata": {
    "id": "zuFlP2hUy7h0"
   },
   "outputs": [],
   "source": [
    "predictions_prob_x = model_xception.predict(test_generator)\n",
    "predictions_x =predictions_prob_x.argmax(axis=1)\n",
    "#predictions_x"
   ]
  },
  {
   "cell_type": "code",
   "execution_count": null,
   "id": "uDSBSJD_y7fW",
   "metadata": {
    "id": "uDSBSJD_y7fW"
   },
   "outputs": [],
   "source": [
    "predictions_prob_v = model_vgg16.predict(test_generator)\n",
    "predictions_v =predictions_prob_v.argmax(axis=1)\n",
    "#predictions_v"
   ]
  },
  {
   "cell_type": "code",
   "execution_count": null,
   "id": "36587d42",
   "metadata": {
    "id": "36587d42"
   },
   "outputs": [],
   "source": [
    "predictions_prob_r = model_resnet.predict(test_generator)\n",
    "predictions_r =predictions_prob_r.argmax(axis=1)\n",
    "#predictions_r"
   ]
  },
  {
   "cell_type": "code",
   "execution_count": null,
   "id": "xZHJ6b05y7cv",
   "metadata": {
    "colab": {
     "base_uri": "https://localhost:8080/"
    },
    "executionInfo": {
     "elapsed": 25,
     "status": "ok",
     "timestamp": 1664600869246,
     "user": {
      "displayName": "Neil Chen",
      "userId": "13676878019206126902"
     },
     "user_tz": 240
    },
    "id": "xZHJ6b05y7cv",
    "outputId": "d2116e15-b8f5-4dac-ebaf-e94ada3c908f"
   },
   "outputs": [
    {
     "name": "stdout",
     "output_type": "stream",
     "text": [
      "Classification report of Inception v3: \n",
      "               precision    recall  f1-score   support\n",
      "\n",
      "           0       0.90      0.91      0.91       100\n",
      "           1       0.74      0.88      0.80       100\n",
      "           2       0.91      0.82      0.86       100\n",
      "           3       0.89      0.74      0.81       100\n",
      "           4       0.80      0.86      0.83       100\n",
      "\n",
      "    accuracy                           0.84       500\n",
      "   macro avg       0.85      0.84      0.84       500\n",
      "weighted avg       0.85      0.84      0.84       500\n",
      "\n"
     ]
    }
   ],
   "source": [
    "print(\"Classification report of Inception v3: \\n\", classification_report(test_true , predictions_i))"
   ]
  },
  {
   "cell_type": "code",
   "execution_count": null,
   "id": "xanRGUtJy7TN",
   "metadata": {
    "colab": {
     "base_uri": "https://localhost:8080/"
    },
    "executionInfo": {
     "elapsed": 23,
     "status": "ok",
     "timestamp": 1664600869246,
     "user": {
      "displayName": "Neil Chen",
      "userId": "13676878019206126902"
     },
     "user_tz": 240
    },
    "id": "xanRGUtJy7TN",
    "outputId": "1292e028-1b55-4218-b7e0-405815d5bfa8"
   },
   "outputs": [
    {
     "name": "stdout",
     "output_type": "stream",
     "text": [
      "Classification report of Xception: \n",
      "               precision    recall  f1-score   support\n",
      "\n",
      "           0       0.86      0.90      0.88       100\n",
      "           1       0.79      0.83      0.81       100\n",
      "           2       0.92      0.85      0.89       100\n",
      "           3       0.83      0.78      0.80       100\n",
      "           4       0.77      0.80      0.78       100\n",
      "\n",
      "    accuracy                           0.83       500\n",
      "   macro avg       0.83      0.83      0.83       500\n",
      "weighted avg       0.83      0.83      0.83       500\n",
      "\n"
     ]
    }
   ],
   "source": [
    "print(\"Classification report of Xception: \\n\", classification_report(test_true , predictions_x))"
   ]
  },
  {
   "cell_type": "code",
   "execution_count": null,
   "id": "145nFYGp0Opj",
   "metadata": {
    "colab": {
     "base_uri": "https://localhost:8080/"
    },
    "executionInfo": {
     "elapsed": 21,
     "status": "ok",
     "timestamp": 1664600869247,
     "user": {
      "displayName": "Neil Chen",
      "userId": "13676878019206126902"
     },
     "user_tz": 240
    },
    "id": "145nFYGp0Opj",
    "outputId": "21d1a03c-74dc-4dd2-ce5f-caf920e078b4"
   },
   "outputs": [
    {
     "name": "stdout",
     "output_type": "stream",
     "text": [
      "Classification report of VGG 16: \n",
      "               precision    recall  f1-score   support\n",
      "\n",
      "           0       0.76      0.70      0.73       100\n",
      "           1       0.63      0.46      0.53       100\n",
      "           2       0.71      0.71      0.71       100\n",
      "           3       0.57      0.64      0.60       100\n",
      "           4       0.61      0.74      0.67       100\n",
      "\n",
      "    accuracy                           0.65       500\n",
      "   macro avg       0.65      0.65      0.65       500\n",
      "weighted avg       0.65      0.65      0.65       500\n",
      "\n"
     ]
    }
   ],
   "source": [
    "print(\"Classification report of VGG 16: \\n\", classification_report(test_true , predictions_v))"
   ]
  },
  {
   "cell_type": "code",
   "execution_count": null,
   "id": "8e25204c",
   "metadata": {
    "colab": {
     "base_uri": "https://localhost:8080/"
    },
    "executionInfo": {
     "elapsed": 18,
     "status": "ok",
     "timestamp": 1664600869247,
     "user": {
      "displayName": "Neil Chen",
      "userId": "13676878019206126902"
     },
     "user_tz": 240
    },
    "id": "8e25204c",
    "outputId": "5c426f80-4a43-4ccd-cc5a-efa12a3deab2"
   },
   "outputs": [
    {
     "name": "stdout",
     "output_type": "stream",
     "text": [
      "Classification report of Resnet101 v2: \n",
      "               precision    recall  f1-score   support\n",
      "\n",
      "           0       0.93      0.90      0.91       100\n",
      "           1       0.84      0.83      0.83       100\n",
      "           2       0.86      0.89      0.87       100\n",
      "           3       0.80      0.73      0.76       100\n",
      "           4       0.83      0.91      0.87       100\n",
      "\n",
      "    accuracy                           0.85       500\n",
      "   macro avg       0.85      0.85      0.85       500\n",
      "weighted avg       0.85      0.85      0.85       500\n",
      "\n"
     ]
    }
   ],
   "source": [
    "print(\"Classification report of Resnet101 v2: \\n\", classification_report(test_true , predictions_r))"
   ]
  },
  {
   "cell_type": "code",
   "execution_count": null,
   "id": "Js6WSJV_1qUi",
   "metadata": {
    "id": "Js6WSJV_1qUi"
   },
   "outputs": [],
   "source": [
    "# Confusion matrix of Xception\n",
    "conf_matrix = confusion_matrix(test_true, predictions_x)\n",
    "conf_matrix"
   ]
  },
  {
   "cell_type": "code",
   "execution_count": null,
   "id": "3yVZ09cB0Qp9",
   "metadata": {
    "id": "3yVZ09cB0Qp9"
   },
   "outputs": [],
   "source": [
    "fig, ax = plt.subplots(figsize=(8, 8))\n",
    "ax.matshow(conf_matrix, cmap=plt.cm.Paired, alpha=0.3)\n",
    "for i in range(conf_matrix.shape[0]):\n",
    "    for j in range(conf_matrix.shape[1]):\n",
    "        ax.text(x=j, y=i,s=conf_matrix[i, j], va='center', ha='center', size=17)\n",
    "plt.xticks(ticks=[0,1,2,3,4],labels=list(labels.keys()),fontsize=17)\n",
    "plt.yticks(ticks=[0,1,2,3,4],labels=list(labels.keys()), fontsize=17, rotation=90, ha='right', va='center')\n",
    "plt.xlabel('Predicted Labels', fontsize=17)\n",
    "plt.ylabel('Actual Labels', fontsize=17)\n",
    "#plt.title('Confusion Matrix of Xception', fontsize=17)\n",
    "plt.savefig(\"CF_Xception.png\", dpi=300)\n",
    "plt.show()"
   ]
  }
 ],
 "metadata": {
  "accelerator": "GPU",
  "colab": {
   "collapsed_sections": [
    "4207de6d"
   ],
   "machine_shape": "hm",
   "provenance": [
    {
     "file_id": "19dT3wRXocmA8NLXUEqXt0ZoZTYy9ts5I",
     "timestamp": 1669168904690
    }
   ]
  },
  "gpuClass": "standard",
  "kernelspec": {
   "display_name": "Python 3 (ipykernel)",
   "language": "python",
   "name": "python3"
  },
  "language_info": {
   "codemirror_mode": {
    "name": "ipython",
    "version": 3
   },
   "file_extension": ".py",
   "mimetype": "text/x-python",
   "name": "python",
   "nbconvert_exporter": "python",
   "pygments_lexer": "ipython3",
   "version": "3.7.11"
  }
 },
 "nbformat": 4,
 "nbformat_minor": 5
}
