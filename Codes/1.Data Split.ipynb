{
 "cells": [
  {
   "cell_type": "code",
   "execution_count": 3,
   "id": "36f622da",
   "metadata": {},
   "outputs": [],
   "source": [
    "import pandas as pd\n",
    "pd.set_option('display.max_rows',None)\n",
    "pd.set_option('display.max_columns',None)\n",
    "\n",
    "import matplotlib.pyplot as plt\n",
    "import os\n",
    "os.chdir(r\"D:\\ME\\GeorgeTown\\FALL2022\\ANLY-590\\ANLY590\")\n",
    "\n",
    "import numpy as np"
   ]
  },
  {
   "cell_type": "code",
   "execution_count": 4,
   "id": "38afc529",
   "metadata": {},
   "outputs": [
    {
     "data": {
      "text/html": [
       "<div>\n",
       "<style scoped>\n",
       "    .dataframe tbody tr th:only-of-type {\n",
       "        vertical-align: middle;\n",
       "    }\n",
       "\n",
       "    .dataframe tbody tr th {\n",
       "        vertical-align: top;\n",
       "    }\n",
       "\n",
       "    .dataframe thead th {\n",
       "        text-align: right;\n",
       "    }\n",
       "</style>\n",
       "<table border=\"1\" class=\"dataframe\">\n",
       "  <thead>\n",
       "    <tr style=\"text-align: right;\">\n",
       "      <th></th>\n",
       "      <th>posting_id</th>\n",
       "      <th>image</th>\n",
       "      <th>image_phash</th>\n",
       "      <th>title</th>\n",
       "      <th>label_group</th>\n",
       "    </tr>\n",
       "  </thead>\n",
       "  <tbody>\n",
       "    <tr>\n",
       "      <th>0</th>\n",
       "      <td>train_129225211</td>\n",
       "      <td>0000a68812bc7e98c42888dfb1c07da0.jpg</td>\n",
       "      <td>94974f937d4c2433</td>\n",
       "      <td>Paper Bag Victoria Secret</td>\n",
       "      <td>249114794</td>\n",
       "    </tr>\n",
       "    <tr>\n",
       "      <th>1</th>\n",
       "      <td>train_3386243561</td>\n",
       "      <td>00039780dfc94d01db8676fe789ecd05.jpg</td>\n",
       "      <td>af3f9460c2838f0f</td>\n",
       "      <td>Double Tape 3M VHB 12 mm x 4,5 m ORIGINAL / DO...</td>\n",
       "      <td>2937985045</td>\n",
       "    </tr>\n",
       "    <tr>\n",
       "      <th>2</th>\n",
       "      <td>train_2288590299</td>\n",
       "      <td>000a190fdd715a2a36faed16e2c65df7.jpg</td>\n",
       "      <td>b94cb00ed3e50f78</td>\n",
       "      <td>Maling TTS Canned Pork Luncheon Meat 397 gr</td>\n",
       "      <td>2395904891</td>\n",
       "    </tr>\n",
       "    <tr>\n",
       "      <th>3</th>\n",
       "      <td>train_2406599165</td>\n",
       "      <td>00117e4fc239b1b641ff08340b429633.jpg</td>\n",
       "      <td>8514fc58eafea283</td>\n",
       "      <td>Daster Batik Lengan pendek - Motif Acak / Camp...</td>\n",
       "      <td>4093212188</td>\n",
       "    </tr>\n",
       "    <tr>\n",
       "      <th>4</th>\n",
       "      <td>train_3369186413</td>\n",
       "      <td>00136d1cf4edede0203f32f05f660588.jpg</td>\n",
       "      <td>a6f319f924ad708c</td>\n",
       "      <td>Nescafe \\xc3\\x89clair Latte 220ml</td>\n",
       "      <td>3648931069</td>\n",
       "    </tr>\n",
       "  </tbody>\n",
       "</table>\n",
       "</div>"
      ],
      "text/plain": [
       "         posting_id                                 image       image_phash  \\\n",
       "0   train_129225211  0000a68812bc7e98c42888dfb1c07da0.jpg  94974f937d4c2433   \n",
       "1  train_3386243561  00039780dfc94d01db8676fe789ecd05.jpg  af3f9460c2838f0f   \n",
       "2  train_2288590299  000a190fdd715a2a36faed16e2c65df7.jpg  b94cb00ed3e50f78   \n",
       "3  train_2406599165  00117e4fc239b1b641ff08340b429633.jpg  8514fc58eafea283   \n",
       "4  train_3369186413  00136d1cf4edede0203f32f05f660588.jpg  a6f319f924ad708c   \n",
       "\n",
       "                                               title  label_group  \n",
       "0                          Paper Bag Victoria Secret    249114794  \n",
       "1  Double Tape 3M VHB 12 mm x 4,5 m ORIGINAL / DO...   2937985045  \n",
       "2        Maling TTS Canned Pork Luncheon Meat 397 gr   2395904891  \n",
       "3  Daster Batik Lengan pendek - Motif Acak / Camp...   4093212188  \n",
       "4                  Nescafe \\xc3\\x89clair Latte 220ml   3648931069  "
      ]
     },
     "execution_count": 4,
     "metadata": {},
     "output_type": "execute_result"
    }
   ],
   "source": [
    "#The samples in test_csv will not be used for training & validation\n",
    "train_csv=pd.read_csv(r'Data\\raw data\\train.csv')\n",
    "train_csv.head()"
   ]
  },
  {
   "cell_type": "code",
   "execution_count": 7,
   "id": "d3c24d54",
   "metadata": {},
   "outputs": [
    {
     "data": {
      "text/html": [
       "<div>\n",
       "<style scoped>\n",
       "    .dataframe tbody tr th:only-of-type {\n",
       "        vertical-align: middle;\n",
       "    }\n",
       "\n",
       "    .dataframe tbody tr th {\n",
       "        vertical-align: top;\n",
       "    }\n",
       "\n",
       "    .dataframe thead th {\n",
       "        text-align: right;\n",
       "    }\n",
       "</style>\n",
       "<table border=\"1\" class=\"dataframe\">\n",
       "  <thead>\n",
       "    <tr style=\"text-align: right;\">\n",
       "      <th></th>\n",
       "      <th>posting_id</th>\n",
       "      <th>image</th>\n",
       "      <th>image_phash</th>\n",
       "      <th>title</th>\n",
       "      <th>label_group</th>\n",
       "    </tr>\n",
       "  </thead>\n",
       "  <tbody>\n",
       "    <tr>\n",
       "      <th>0</th>\n",
       "      <td>train_129225211</td>\n",
       "      <td>0000a68812bc7e98c42888dfb1c07da0.jpg</td>\n",
       "      <td>94974f937d4c2433</td>\n",
       "      <td>Paper Bag Victoria Secret</td>\n",
       "      <td>249114794</td>\n",
       "    </tr>\n",
       "    <tr>\n",
       "      <th>33161</th>\n",
       "      <td>train_2278313361</td>\n",
       "      <td>f83b49a86a0ee8592e3bf0204da3fbdf.jpg</td>\n",
       "      <td>ac63931c3d4b42f6</td>\n",
       "      <td>PAPER BAG VICTORIA SECRET</td>\n",
       "      <td>249114794</td>\n",
       "    </tr>\n",
       "  </tbody>\n",
       "</table>\n",
       "</div>"
      ],
      "text/plain": [
       "             posting_id                                 image  \\\n",
       "0       train_129225211  0000a68812bc7e98c42888dfb1c07da0.jpg   \n",
       "33161  train_2278313361  f83b49a86a0ee8592e3bf0204da3fbdf.jpg   \n",
       "\n",
       "            image_phash                      title  label_group  \n",
       "0      94974f937d4c2433  Paper Bag Victoria Secret    249114794  \n",
       "33161  ac63931c3d4b42f6  PAPER BAG VICTORIA SECRET    249114794  "
      ]
     },
     "execution_count": 7,
     "metadata": {},
     "output_type": "execute_result"
    }
   ],
   "source": [
    "train_csv.query('label_group==249114794')"
   ]
  },
  {
   "cell_type": "code",
   "execution_count": 5,
   "id": "77c3de65",
   "metadata": {},
   "outputs": [
    {
     "data": {
      "text/html": [
       "<div>\n",
       "<style scoped>\n",
       "    .dataframe tbody tr th:only-of-type {\n",
       "        vertical-align: middle;\n",
       "    }\n",
       "\n",
       "    .dataframe tbody tr th {\n",
       "        vertical-align: top;\n",
       "    }\n",
       "\n",
       "    .dataframe thead th {\n",
       "        text-align: right;\n",
       "    }\n",
       "</style>\n",
       "<table border=\"1\" class=\"dataframe\">\n",
       "  <thead>\n",
       "    <tr style=\"text-align: right;\">\n",
       "      <th></th>\n",
       "      <th>posting_id</th>\n",
       "      <th>image</th>\n",
       "      <th>image_phash</th>\n",
       "      <th>title</th>\n",
       "    </tr>\n",
       "  </thead>\n",
       "  <tbody>\n",
       "    <tr>\n",
       "      <th>0</th>\n",
       "      <td>test_2255846744</td>\n",
       "      <td>0006c8e5462ae52167402bac1c2e916e.jpg</td>\n",
       "      <td>ecc292392dc7687a</td>\n",
       "      <td>Edufuntoys - CHARACTER PHONE ada lampu dan mus...</td>\n",
       "    </tr>\n",
       "    <tr>\n",
       "      <th>1</th>\n",
       "      <td>test_3588702337</td>\n",
       "      <td>0007585c4d0f932859339129f709bfdc.jpg</td>\n",
       "      <td>e9968f60d2699e2c</td>\n",
       "      <td>(Beli 1 Free Spatula) Masker Komedo | Blackhea...</td>\n",
       "    </tr>\n",
       "    <tr>\n",
       "      <th>2</th>\n",
       "      <td>test_4015706929</td>\n",
       "      <td>0008377d3662e83ef44e1881af38b879.jpg</td>\n",
       "      <td>ba81c17e3581cabe</td>\n",
       "      <td>READY Lemonilo Mie instant sehat kuah dan goreng</td>\n",
       "    </tr>\n",
       "  </tbody>\n",
       "</table>\n",
       "</div>"
      ],
      "text/plain": [
       "        posting_id                                 image       image_phash  \\\n",
       "0  test_2255846744  0006c8e5462ae52167402bac1c2e916e.jpg  ecc292392dc7687a   \n",
       "1  test_3588702337  0007585c4d0f932859339129f709bfdc.jpg  e9968f60d2699e2c   \n",
       "2  test_4015706929  0008377d3662e83ef44e1881af38b879.jpg  ba81c17e3581cabe   \n",
       "\n",
       "                                               title  \n",
       "0  Edufuntoys - CHARACTER PHONE ada lampu dan mus...  \n",
       "1  (Beli 1 Free Spatula) Masker Komedo | Blackhea...  \n",
       "2   READY Lemonilo Mie instant sehat kuah dan goreng  "
      ]
     },
     "execution_count": 5,
     "metadata": {},
     "output_type": "execute_result"
    }
   ],
   "source": [
    "#The samples in test_csv will not be used during training\n",
    "test_csv=pd.read_csv(r'Data\\raw data\\test.csv')\n",
    "test_csv.head()"
   ]
  },
  {
   "cell_type": "code",
   "execution_count": 36,
   "id": "7a790430",
   "metadata": {},
   "outputs": [
    {
     "data": {
      "text/html": [
       "<div>\n",
       "<style scoped>\n",
       "    .dataframe tbody tr th:only-of-type {\n",
       "        vertical-align: middle;\n",
       "    }\n",
       "\n",
       "    .dataframe tbody tr th {\n",
       "        vertical-align: top;\n",
       "    }\n",
       "\n",
       "    .dataframe thead th {\n",
       "        text-align: right;\n",
       "    }\n",
       "</style>\n",
       "<table border=\"1\" class=\"dataframe\">\n",
       "  <thead>\n",
       "    <tr style=\"text-align: right;\">\n",
       "      <th></th>\n",
       "      <th>label_group</th>\n",
       "      <th>count</th>\n",
       "    </tr>\n",
       "  </thead>\n",
       "  <tbody>\n",
       "    <tr>\n",
       "      <th>0</th>\n",
       "      <td>994676122</td>\n",
       "      <td>51</td>\n",
       "    </tr>\n",
       "    <tr>\n",
       "      <th>1</th>\n",
       "      <td>1163569239</td>\n",
       "      <td>51</td>\n",
       "    </tr>\n",
       "    <tr>\n",
       "      <th>2</th>\n",
       "      <td>1141798720</td>\n",
       "      <td>51</td>\n",
       "    </tr>\n",
       "    <tr>\n",
       "      <th>3</th>\n",
       "      <td>159351600</td>\n",
       "      <td>51</td>\n",
       "    </tr>\n",
       "    <tr>\n",
       "      <th>4</th>\n",
       "      <td>562358068</td>\n",
       "      <td>51</td>\n",
       "    </tr>\n",
       "  </tbody>\n",
       "</table>\n",
       "</div>"
      ],
      "text/plain": [
       "   label_group  count\n",
       "0    994676122     51\n",
       "1   1163569239     51\n",
       "2   1141798720     51\n",
       "3    159351600     51\n",
       "4    562358068     51"
      ]
     },
     "execution_count": 36,
     "metadata": {},
     "output_type": "execute_result"
    }
   ],
   "source": [
    "#Count every label_group\n",
    "train_csv.label_group.value_counts().reset_index().rename(columns={'index':'label_group','label_group':'count'}).head()"
   ]
  },
  {
   "cell_type": "code",
   "execution_count": 37,
   "id": "3fbc32a7",
   "metadata": {
    "scrolled": false
   },
   "outputs": [
    {
     "data": {
      "text/plain": [
       "{994676122: 5,\n",
       " 1163569239: 5,\n",
       " 1141798720: 5,\n",
       " 159351600: 5,\n",
       " 562358068: 5,\n",
       " 3113678103: 5,\n",
       " 3627744656: 5,\n",
       " 3206118280: 4,\n",
       " 1733221456: 4,\n",
       " 1166650192: 4,\n",
       " 1091404026: 4,\n",
       " 3489985175: 4,\n",
       " 1237550763: 3,\n",
       " 1746655739: 3,\n",
       " 452508504: 3,\n",
       " 731330024: 3,\n",
       " 4184214313: 3,\n",
       " 2008989859: 3,\n",
       " 1575763518: 3,\n",
       " 66247839: 3,\n",
       " 871679006: 3,\n",
       " 952183003: 3,\n",
       " 2259957740: 3,\n",
       " 3001123709: 3,\n",
       " 2999794436: 3,\n",
       " 2935813666: 3,\n",
       " 3926100920: 3,\n",
       " 656698835: 3,\n",
       " 1226500780: 3,\n",
       " 997220911: 3,\n",
       " 1201602115: 2,\n",
       " 821583868: 2,\n",
       " 3717044186: 2,\n",
       " 3868183614: 2,\n",
       " 1135976474: 2,\n",
       " 3326267479: 2,\n",
       " 3040690230: 2,\n",
       " 927285629: 2,\n",
       " 1306578136: 2,\n",
       " 2156459496: 2,\n",
       " 4141124289: 2,\n",
       " 2123332638: 2,\n",
       " 418991059: 2,\n",
       " 1569494229: 2,\n",
       " 3441184770: 2,\n",
       " 777596345: 2,\n",
       " 1744240905: 2,\n",
       " 2956941947: 2,\n",
       " 1065450055: 2,\n",
       " 1544174053: 2,\n",
       " 1088754866: 2,\n",
       " 2911646536: 2,\n",
       " 4277487223: 2,\n",
       " 3433277712: 2,\n",
       " 962477933: 2,\n",
       " 1285119273: 2,\n",
       " 4038613836: 2,\n",
       " 2748623227: 2}"
      ]
     },
     "execution_count": 37,
     "metadata": {},
     "output_type": "execute_result"
    }
   ],
   "source": [
    "#Only sample those label_group which has more than 20 samples\n",
    "test_ratio=0.1\n",
    "label_count=train_csv.label_group.value_counts().reset_index().rename(columns={'index':'label_group','label_group':'count'})\n",
    "sample_num={}\n",
    "\n",
    "for i in range(label_count.shape[0]):\n",
    "    num_to_sample=label_count['count'].iloc[i]*test_ratio\n",
    "    if num_to_sample<2:continue\n",
    "    sample_num[label_count['label_group'].iloc[i]]=int(num_to_sample)\n",
    "\n",
    "sample_num"
   ]
  },
  {
   "cell_type": "code",
   "execution_count": 53,
   "id": "7cdd260d",
   "metadata": {},
   "outputs": [
    {
     "name": "stdout",
     "output_type": "stream",
     "text": [
      "TrainingSet Size:34085\n",
      "ValidationSet Size:165\n"
     ]
    }
   ],
   "source": [
    "valid_idx=[list(np.where(train_csv['label_group']==label)[0][:sample_num[label]]) for label in sample_num]\n",
    "valid_idx=[idx for group in valid_idx for idx in group]\n",
    "\n",
    "train_idx=[i for i in range(train_csv.shape[0]) if i not in valid_idx]\n",
    "\n",
    "print('TrainingSet Size:{}'.format(len(train_idx)))\n",
    "print('ValidationSet Size:{}'.format(len(valid_idx)))"
   ]
  },
  {
   "cell_type": "code",
   "execution_count": 55,
   "id": "efcb820a",
   "metadata": {},
   "outputs": [],
   "source": [
    "X_train,y_train=train_csv.iloc[train_idx,:-1],train_csv.iloc[train_idx,-1]\n",
    "X_valid,y_valid=train_csv.iloc[valid_idx,:-1],train_csv.iloc[valid_idx,-1]"
   ]
  },
  {
   "cell_type": "code",
   "execution_count": null,
   "id": "96866f4f",
   "metadata": {},
   "outputs": [],
   "source": [
    "#Save data split\n",
    "X_train.to_csv(r'data_splitted/X_train_splitted.csv',index=False)\n",
    "y_train.to_csv(r'data_splitted/y_train_splitted.csv',index=False)\n",
    "X_test.to_csv(r'data_splitted/X_test_splitted.csv',index=False)\n",
    "y_test.to_csv(r'data_splitted/y_test_splitted.csv',index=False)"
   ]
  }
 ],
 "metadata": {
  "kernelspec": {
   "display_name": "Python 3 (ipykernel)",
   "language": "python",
   "name": "python3"
  },
  "language_info": {
   "codemirror_mode": {
    "name": "ipython",
    "version": 3
   },
   "file_extension": ".py",
   "mimetype": "text/x-python",
   "name": "python",
   "nbconvert_exporter": "python",
   "pygments_lexer": "ipython3",
   "version": "3.7.11"
  }
 },
 "nbformat": 4,
 "nbformat_minor": 5
}
